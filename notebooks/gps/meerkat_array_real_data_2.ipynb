{
 "cells": [
  {
   "cell_type": "code",
   "execution_count": 32,
   "id": "ef9ef6b1-b233-4871-b86c-2417cc59ab7e",
   "metadata": {},
   "outputs": [],
   "source": [
    "\n",
    "import polars as pl\n",
    "from spatial_filtering import arrays, constants, direction_of_arrival\n",
    "import importlib\n",
    "import matplotlib.pyplot as plt\n",
    "\n",
    "importlib.reload(arrays)\n",
    "importlib.reload(constants)\n",
    "importlib.reload(direction_of_arrival)\n",
    "\n",
    "meerkat_pos = pl.read_excel('meerkat positions.xlsx')\n",
    "meerkat_pos = meerkat_pos.with_columns(distance_from_center_m=(pl.col('East')**2 + pl.col('North')**2 + pl.col('Up')**2).sqrt())\n",
    "meerkat_pos_core = meerkat_pos.filter(pl.col('distance_from_center_m') < 500)\n",
    "core_indices = [int(r[-2:]) for r in meerkat_pos_core['Antenna'].to_list()]\n",
    "data_np = meerkat_pos_core[['East', 'North', 'Up']].to_numpy()\n",
    "\n",
    "from spatial_filtering.arrays import Array\n",
    "import numpy as np\n",
    "\n",
    "array = arrays.Array(data_np)\n",
    "N = array.num_antennas\n",
    "f = 1.227574219e9              # Frequency 1.2276 GHz GPS L2 band.\n",
    "wavelength = constants.c / f\n",
    "snapshots = 10000\n"
   ]
  },
  {
   "cell_type": "code",
   "execution_count": 63,
   "id": "3c02d5ed-11f6-4d3b-a5fc-65ff24138d87",
   "metadata": {},
   "outputs": [
    {
     "name": "stdout",
     "output_type": "stream",
     "text": [
      "{'HEADER': 'DADA', 'HDR_VERSION': '1.0', 'HDR_SIZE': 4096, 'DADA_VERSION': '1.0', 'OBS_ID': 'None', 'FILE_SIZE': '3048214528', 'FILE_NUMBER': '0', 'UTC_START': '1708082482.092702505', 'MJD_START': '60356.47317236924195', 'OBS_OFFSET': '0', 'OBS_OVERLAP': '0', 'SOURCE': 'J1644-4559_Offset1', 'RA': '16:44:26.25', 'DEC': '-45:59:09.6', 'TELESCOPE': 'MeerKAT', 'INSTRUMENT': 'CBF-Feng', 'RECEIVER': 'L-band', 'FREQ': '1284000000.000000', 'BW': '856000000.000000', 'TSAMP': '4.7850467290', 'BYTES_PER_SECOND': '3424000000.000000', 'NBIT': 8, 'NDIM': 2, 'NPOL': 2, 'NCHAN': 64, 'NANT': 57, 'ORDER': 'TAFTP', 'INNER_T': 256, 'SYNC_TIME': '1708039531.000000', 'SAMPLE_CLOCK': '1712000000.000000', 'SAMPLE_CLOCK_START': '73532270706688', 'CHAN0_IDX': 1728, 'Lowest_freq (MHz)': 1217.125}\n"
     ]
    }
   ],
   "source": [
    "from dadanalyse import read_dada\n",
    "GPS_CHANNEL = 50\n",
    "POL = 1\n",
    "# J1644-4559_2024-02-16T11:21:22.092_29_73532270706688.dada\n",
    "dada = read_dada(\"../../../data/gps.dada\")\n",
    "print(dada.get_header())\n",
    "dada = dada.combined_data()\n",
    "\n"
   ]
  },
  {
   "cell_type": "code",
   "execution_count": 64,
   "id": "79acee3d-8793-4e04-834e-581fe729055f",
   "metadata": {},
   "outputs": [
    {
     "data": {
      "text/plain": [
       "array([ 0.29380879-0.95586421j, -0.38789908+0.92170185j,\n",
       "       -0.80562962-0.59241955j,  0.89094245+0.45411623j,\n",
       "        0.63052321+0.77617039j, -0.54047739-0.84135854j,\n",
       "       -0.7179779 +0.69606589j,  0.99995061-0.00993887j,\n",
       "       -0.99152701+0.12990066j, -0.91580951+0.40161293j,\n",
       "        0.22433012+0.97451321j, -0.95112676+0.30880072j,\n",
       "        0.38387379-0.92338557j,  0.70552644+0.7086836j ,\n",
       "        0.77828376-0.62791273j, -0.49022161+0.87159783j,\n",
       "        0.9929999 -0.1181152j ,  0.07410256-0.99725063j,\n",
       "       -0.93833154-0.34573679j,  0.08121442-0.99669665j,\n",
       "        0.67891664-0.73421536j,  0.94433605+0.3289824j ,\n",
       "        0.53076907+0.84751649j,  0.01367786+0.99990645j,\n",
       "        0.76778561+0.64070684j, -0.99951007+0.03129872j,\n",
       "       -0.10965214-0.99397002j, -0.98281239+0.18460718j,\n",
       "        0.31836857+0.94796701j, -0.86498433+0.50179887j,\n",
       "        0.5036235 -0.86392324j, -0.07489689+0.99719128j,\n",
       "        0.66157129-0.74988227j, -0.14029655-0.99010953j])"
      ]
     },
     "execution_count": 64,
     "metadata": {},
     "output_type": "execute_result"
    }
   ],
   "source": [
    "array.steering_vector([0,0], wavelength)"
   ]
  },
  {
   "cell_type": "code",
   "execution_count": null,
   "id": "1c7a0f6b-1c68-40f2-b759-c4e332ad4ced",
   "metadata": {},
   "outputs": [],
   "source": []
  },
  {
   "cell_type": "code",
   "execution_count": 65,
   "id": "8e33365b-0d94-43f4-9c01-2d0372434b99",
   "metadata": {},
   "outputs": [
    {
     "data": {
      "text/plain": [
       "(208896, 57, 64, 2)"
      ]
     },
     "execution_count": 65,
     "metadata": {},
     "output_type": "execute_result"
    }
   ],
   "source": [
    "dada.shape"
   ]
  },
  {
   "cell_type": "code",
   "execution_count": 66,
   "id": "5bb9ee2d-e0a1-48a4-a4e8-0e18dd8fc657",
   "metadata": {},
   "outputs": [],
   "source": [
    "dada = dada[0:100000, core_indices, GPS_CHANNEL, POL].T\n",
    "X = dada"
   ]
  },
  {
   "cell_type": "code",
   "execution_count": 67,
   "id": "b4f32feb-1a6b-4a61-b720-8d0d41806570",
   "metadata": {},
   "outputs": [
    {
     "name": "stdout",
     "output_type": "stream",
     "text": [
      "(5109360.133321233, 2006852.5860429057, -3238948.127478875) m\n"
     ]
    },
    {
     "name": "stderr",
     "output_type": "stream",
     "text": [
      "/var/folders/vv/d9ncb4ms2x1gl0mmkrvk8m7c0000gp/T/ipykernel_54984/3372582233.py:16: DeprecationWarning:\n",
      "\n",
      "datetime.datetime.utcfromtimestamp() is deprecated and scheduled for removal in a future version. Use timezone-aware objects to represent datetimes in UTC: datetime.datetime.fromtimestamp(timestamp, datetime.UTC).\n",
      "\n"
     ]
    }
   ],
   "source": [
    "from astropy.coordinates import SkyCoord, EarthLocation, AltAz\n",
    "from astropy.time import Time\n",
    "import astropy.units as u\n",
    "from skyfield.api import load, Topos, EarthSatellite\n",
    "from datetime import datetime\n",
    "import numpy as np\n",
    "import astropy.units as u\n",
    "\n",
    "# Location: MeerKAT Telescope (converted to decimal degrees)\n",
    "lat = -30.71106\n",
    "lon = 21.44389\n",
    "elevation_m = 1086.6\n",
    "\n",
    "# Time: Convert UNIX timestamp to UTC\n",
    "timestamp = 1708082482.092702505\n",
    "dt = datetime.utcfromtimestamp(timestamp)\n",
    "dt\n",
    "\n",
    "lon_str = \"21d26m38s\"   # degrees, minutes, seconds format\n",
    "lat_str = \"-30d42m39.8s\"  # negative for south\n",
    "\n",
    "# Altitude (optional, in meters)\n",
    "height = 1086.6 * u.m\n",
    "\n",
    "# Create location\n",
    "location = EarthLocation.from_geodetic(lon=lon_str, lat=lat_str, height=height)\n",
    "\n",
    "print(location)"
   ]
  },
  {
   "cell_type": "code",
   "execution_count": 68,
   "id": "38f45a71-5241-4f47-9d4a-d88fd1de11db",
   "metadata": {},
   "outputs": [
    {
     "name": "stdout",
     "output_type": "stream",
     "text": [
      "Source RA/DEC\n",
      "Altitude: 24.03 deg\n",
      "Azimuth: 229.33 deg\n"
     ]
    }
   ],
   "source": [
    "\n",
    "\n",
    "# Observer location (MeerKAT)\n",
    "obs_location = EarthLocation(lat=lat*u.deg,\n",
    "                         lon=lon*u.deg,\n",
    "                         height=elevation_m*u.m)\n",
    "\n",
    "# Time of observation (UTC)\n",
    "obstime = Time('2024-02-16 11:21:22')\n",
    "\n",
    "# RA/DEC coordinates\n",
    "ra_str = '16:44:26.25'\n",
    "dec_str = '-45:59:09.6'\n",
    "\n",
    "# Create SkyCoord object in ICRS (equatorial)\n",
    "sky_coord = SkyCoord(ra=ra_str, dec=dec_str, unit=(u.hourangle, u.deg), frame='icrs')\n",
    "\n",
    "# Create AltAz frame at observer location and time\n",
    "altaz_frame = AltAz(obstime=obstime, location=location)\n",
    "\n",
    "# Transform RA/DEC to AltAz\n",
    "altaz = sky_coord.transform_to(altaz_frame)\n",
    "\n",
    "# Output altitude and azimuth\n",
    "print(\"Source RA/DEC\")\n",
    "print(f\"Altitude: {altaz.alt:.2f}\")\n",
    "print(f\"Azimuth: {altaz.az:.2f}\")\n",
    "\n",
    "theta_source = 90 - altaz.alt.degree\n",
    "phi_source = (450 - altaz.az.degree) % 360"
   ]
  },
  {
   "cell_type": "code",
   "execution_count": 69,
   "id": "4e649237-1835-4a5d-adf0-bd278975838c",
   "metadata": {},
   "outputs": [],
   "source": [
    "array_factor = array.steering_vector([np.deg2rad(phi_source), np.deg2rad(theta_source)], wavelength)\n",
    "zero_array_factor = array.steering_vector([np.deg2rad(0), np.deg2rad(0)], wavelength)\n",
    "#X = X.T\n",
    "X_adj = X.copy()\n",
    "for i, shift in enumerate(array_factor):\n",
    "    X_adj[i, :] = X_adj[i, :] * array_factor[i].conj()\n",
    "\n",
    "R = X @ X.conj().T / (N-1)\n",
    "R_adj = X_adj @ X_adj.conj().T / (N-1)"
   ]
  },
  {
   "cell_type": "code",
   "execution_count": 70,
   "id": "ab16bdd1-077a-4aa9-8553-91a9bf9d3f8c",
   "metadata": {},
   "outputs": [
    {
     "data": {
      "text/plain": [
       "array([[2856289.5       +0.j   , -107345.03 -369030.78j ,\n",
       "         236568.22 +222448.34j , ...,  364314.4  +192941.8j  ,\n",
       "        -230099.58 -406805.8j  ,  -51150.094-309644.62j ],\n",
       "       [-107345.03 +369030.78j , 2716665.8       +0.j   ,\n",
       "        -182191.4   +34157.484j, ..., -218618.83 +231839.j   ,\n",
       "         357499.7  -183257.83j ,   29180.729+426759.4j  ],\n",
       "       [ 236568.22 -222448.34j , -182191.4   -34157.484j,\n",
       "        2952032.5       +0.j   , ...,  628310.2  -155755.94j ,\n",
       "        -324439.78 +510098.44j , -225723.95 -429334.34j ],\n",
       "       ...,\n",
       "       [ 364314.4  -192941.8j  , -218618.83 -231839.j   ,\n",
       "         628310.2  +155755.94j , ..., 2910284.2       +0.j   ,\n",
       "        -394563.16 +230827.47j , -169650.03 -446423.1j  ],\n",
       "       [-230099.58 +406805.8j  ,  357499.7  +183257.83j ,\n",
       "        -324439.78 -510098.3j  , ..., -394563.16 -230827.47j ,\n",
       "        3040386.        +0.j   , -296668.44 +197962.55j ],\n",
       "       [ -51150.094+309644.62j ,   29180.729-426759.4j  ,\n",
       "        -225723.95 +429334.34j , ..., -169650.03 +446423.1j  ,\n",
       "        -296668.44 -197962.55j , 2971880.        +0.j   ]],\n",
       "      shape=(34, 34), dtype=complex64)"
      ]
     },
     "execution_count": 70,
     "metadata": {},
     "output_type": "execute_result"
    }
   ],
   "source": [
    "import numpy as np\n",
    "\n",
    "evals, evecs = np.linalg.eigh(R)\n",
    "R"
   ]
  },
  {
   "cell_type": "code",
   "execution_count": 71,
   "id": "7f82623f-9e25-4c53-a3c0-98d3e8bcf8c6",
   "metadata": {},
   "outputs": [
    {
     "data": {
      "text/plain": [
       "array([[2859155.8  -3.6707435e-02j,  259254.1  +2.8371500e+05j,\n",
       "         280629.53 +1.6338047e+05j, ...,  255121.34 +3.2382444e+05j,\n",
       "         461831.7  +7.1751695e+04j, -254389.22 +1.8379952e+05j],\n",
       "       [ 259254.1  -2.8370816e+05j, 2719386.8  -2.0157753e-02j,\n",
       "         185185.08 +8.2572529e+03j, ...,  318101.8  +1.8806520e+04j,\n",
       "         243929.55 -3.1919875e+05j, -426619.1  +3.1164295e+04j],\n",
       "       [ 280629.53 -1.6338003e+05j,  185185.08 -8.2573457e+03j,\n",
       "        2954979.2  -3.9310660e-02j, ...,  596003.6  +2.5262045e+05j,\n",
       "         -65154.016-6.0101288e+05j, -365122.56 +3.1931925e+05j],\n",
       "       ...,\n",
       "       [ 255121.34 -3.2383025e+05j,  318101.8  -1.8806611e+04j,\n",
       "         596003.6  -2.5261691e+05j, ..., 2913210.2  +2.0677034e-02j,\n",
       "        -124972.49 -4.3970809e+05j, -154388.84 +4.5192794e+05j],\n",
       "       [ 461832.97 -7.1751430e+04j,  243928.22 +3.1919919e+05j,\n",
       "         -65153.926+6.0100719e+05j, ..., -124971.05 +4.3971034e+05j,\n",
       "        3040385.5  +5.9185608e-04j,  -52765.35 -3.5272816e+05j],\n",
       "       [-254389.47 -1.8379825e+05j, -426622.8  -3.1164143e+04j,\n",
       "        -365123.12 -3.1931859e+05j, ..., -154387.97 -4.5192938e+05j,\n",
       "         -52765.35 +3.5272822e+05j, 2971880.2  +5.9185608e-05j]],\n",
       "      shape=(34, 34), dtype=complex64)"
      ]
     },
     "execution_count": 71,
     "metadata": {},
     "output_type": "execute_result"
    }
   ],
   "source": [
    "R_adj"
   ]
  },
  {
   "cell_type": "code",
   "execution_count": 74,
   "id": "3d60c4cc-091c-4b61-854f-ea550d7b4062",
   "metadata": {},
   "outputs": [
    {
     "data": {
      "text/plain": [
       "array([ 1960220. ,  1976870. ,  1986177.6,  1992006.2,  2004538. ,\n",
       "        2015902. ,  2028254. ,  2040608.9,  2051130.9,  2056981.9,\n",
       "        2063606.6,  2073830.4,  2085582.2,  2089932.1,  2102652.2,\n",
       "        2113521. ,  2123121.8,  2133641.2,  2141150. ,  2154055.2,\n",
       "        2172299.2,  2186111.8,  2211036.2,  2216022. ,  2251667. ,\n",
       "        2301144. ,  2358684.5,  2441199.5,  2501012.8,  2739985. ,\n",
       "        3426652.5,  5909316.5,  7927220.5, 16605051. ], dtype=float32)"
      ]
     },
     "execution_count": 74,
     "metadata": {},
     "output_type": "execute_result"
    }
   ],
   "source": [
    "evals"
   ]
  },
  {
   "cell_type": "code",
   "execution_count": 23,
   "id": "c85aea1e-3d94-4f41-8509-a4dc5df661c7",
   "metadata": {},
   "outputs": [],
   "source": [
    "import matplotlib.pyplot as plt\n",
    "plt.plot(np.abs(X[0, :]))\n",
    "plt.show()"
   ]
  },
  {
   "cell_type": "code",
   "execution_count": 75,
   "id": "5677aef5-f22b-41d4-be72-1107d883a79e",
   "metadata": {},
   "outputs": [
    {
     "name": "stderr",
     "output_type": "stream",
     "text": [
      "  2%|██████                                                                                                                                                                                                                                                                                                                                                                      | 9443/562500 [00:01<01:09, 7987.58it/s]\u001b[32m2025-06-06 14:56:57.184\u001b[0m | \u001b[1mINFO    \u001b[0m | \u001b[36mspatial_filtering.direction_of_arrival\u001b[0m:\u001b[36mget_directions\u001b[0m:\u001b[36m166\u001b[0m - \u001b[1mThreshold set\u001b[0m\n",
      "100%|██████████████████████████████████████████████████████████████████████████████████████████████████████████████████████████████████████████████████████████████████████████████████████████████████████████████████████████████████████████████████████████████████████████████████████████████████████████████████████████████████████████████████████████████████████████| 562500/562500 [01:06<00:00, 8404.89it/s]\n"
     ]
    },
    {
     "data": {
      "text/html": [
       "<div><style>\n",
       ".dataframe > thead > tr,\n",
       ".dataframe > tbody > tr {\n",
       "  text-align: right;\n",
       "  white-space: pre-wrap;\n",
       "}\n",
       "</style>\n",
       "<small>shape: (10, 4)</small><table border=\"1\" class=\"dataframe\"><thead><tr><th>phi</th><th>theta</th><th>Q</th><th>Q_db</th></tr><tr><td>f64</td><td>f64</td><td>f64</td><td>f64</td></tr></thead><tbody><tr><td>0.0</td><td>0.0</td><td>0.036262</td><td>-2.30355</td></tr><tr><td>0.0</td><td>0.11482</td><td>0.036051</td><td>-2.328999</td></tr><tr><td>0.0</td><td>0.22964</td><td>0.035921</td><td>-2.344624</td></tr><tr><td>0.0</td><td>0.344459</td><td>0.03249</td><td>-2.780642</td></tr><tr><td>0.0</td><td>0.459279</td><td>0.030218</td><td>-3.095518</td></tr><tr><td>0.0</td><td>0.574099</td><td>0.03802</td><td>-2.097986</td></tr><tr><td>0.0</td><td>0.688919</td><td>0.039161</td><td>-1.969581</td></tr><tr><td>0.0</td><td>0.803738</td><td>0.036558</td><td>-2.268265</td></tr><tr><td>0.0</td><td>0.918558</td><td>0.032006</td><td>-2.845847</td></tr><tr><td>0.0</td><td>1.033378</td><td>0.034364</td><td>-2.537056</td></tr></tbody></table></div>"
      ],
      "text/plain": [
       "shape: (10, 4)\n",
       "┌─────┬──────────┬──────────┬───────────┐\n",
       "│ phi ┆ theta    ┆ Q        ┆ Q_db      │\n",
       "│ --- ┆ ---      ┆ ---      ┆ ---       │\n",
       "│ f64 ┆ f64      ┆ f64      ┆ f64       │\n",
       "╞═════╪══════════╪══════════╪═══════════╡\n",
       "│ 0.0 ┆ 0.0      ┆ 0.036262 ┆ -2.30355  │\n",
       "│ 0.0 ┆ 0.11482  ┆ 0.036051 ┆ -2.328999 │\n",
       "│ 0.0 ┆ 0.22964  ┆ 0.035921 ┆ -2.344624 │\n",
       "│ 0.0 ┆ 0.344459 ┆ 0.03249  ┆ -2.780642 │\n",
       "│ 0.0 ┆ 0.459279 ┆ 0.030218 ┆ -3.095518 │\n",
       "│ 0.0 ┆ 0.574099 ┆ 0.03802  ┆ -2.097986 │\n",
       "│ 0.0 ┆ 0.688919 ┆ 0.039161 ┆ -1.969581 │\n",
       "│ 0.0 ┆ 0.803738 ┆ 0.036558 ┆ -2.268265 │\n",
       "│ 0.0 ┆ 0.918558 ┆ 0.032006 ┆ -2.845847 │\n",
       "│ 0.0 ┆ 1.033378 ┆ 0.034364 ┆ -2.537056 │\n",
       "└─────┴──────────┴──────────┴───────────┘"
      ]
     },
     "execution_count": 75,
     "metadata": {},
     "output_type": "execute_result"
    }
   ],
   "source": [
    "\n",
    "\n",
    "theta_steps = 750#6_000\n",
    "phi_steps = 750#24_000\n",
    "\n",
    "output = direction_of_arrival.MUSICDOA2D().get_directions(\n",
    "    array,\n",
    "    R_adj, \n",
    "    num_interferers=5,\n",
    "    wavelength = wavelength,\n",
    "    theta_min_deg = 0,\n",
    "    theta_max_deg = 86,\n",
    "    theta_steps=theta_steps,\n",
    "    phi_min_deg = 0,\n",
    "    phi_max_deg = 360,\n",
    "    phi_steps=phi_steps,\n",
    ")\n",
    "output.head(10)"
   ]
  },
  {
   "cell_type": "code",
   "execution_count": 59,
   "id": "38f3549d-176f-444d-8ca7-62c72e98b2bd",
   "metadata": {},
   "outputs": [
    {
     "data": {
      "text/plain": [
       "231736"
      ]
     },
     "execution_count": 59,
     "metadata": {},
     "output_type": "execute_result"
    }
   ],
   "source": [
    "len(output)"
   ]
  },
  {
   "cell_type": "code",
   "execution_count": 60,
   "id": "5b977f91-7bba-4f37-84fb-d8d1da812f2e",
   "metadata": {},
   "outputs": [
    {
     "data": {
      "text/html": [
       "<iframe\n",
       "    scrolling=\"no\"\n",
       "    width=\"100%\"\n",
       "    height=\"545px\"\n",
       "    src=\"iframe_figures/figure_60.html\"\n",
       "    frameborder=\"0\"\n",
       "    allowfullscreen\n",
       "></iframe>\n"
      ]
     },
     "metadata": {},
     "output_type": "display_data"
    }
   ],
   "source": [
    "\n",
    "import plotly.express as px\n",
    "\n",
    "import plotly.io as pio\n",
    "pio.renderers.default = 'iframe'  \n",
    "\n",
    "# Filter top 1% Q values (adjust as needed)\n",
    "threshold = output['Q_db'].quantile(0.999975)\n",
    "high_Q = output.filter(pl.col('Q_db') >= threshold)\n",
    "\n",
    "# Create 3D scatter plot\n",
    "fig = px.scatter_3d(\n",
    "    high_Q,\n",
    "    x='theta',  # azimuth\n",
    "    y='phi',      # range\n",
    "    z='Q_db',      # MUSIC power\n",
    "    color='Q_db',\n",
    "    color_continuous_scale='Jet',\n",
    "    opacity=0.8\n",
    ")\n",
    "\n",
    "# Update layout for better visuals\n",
    "fig.update_layout(\n",
    "    title='High-Q MUSIC Spectrum Peaks',\n",
    "    scene=dict(\n",
    "        xaxis_title='Angle (degrees)',\n",
    "        yaxis_title='Phi (degrees)',\n",
    "        zaxis_title='Q (dB)'\n",
    "    )\n",
    ")\n",
    "\n",
    "fig.show()"
   ]
  },
  {
   "cell_type": "markdown",
   "id": "1f03546b-debd-4ff4-9a06-d4a71d9cda06",
   "metadata": {},
   "source": [
    "The MJD I want is 60356.47317236924195\n",
    "\n",
    "\n"
   ]
  },
  {
   "cell_type": "code",
   "execution_count": 63,
   "id": "3ab36907-62f6-4434-9bd9-32dcdf0dc216",
   "metadata": {},
   "outputs": [
    {
     "data": {
      "text/plain": [
       "[(<Latitude 49.9011741 deg>, <Longitude 140.06565009 deg>),\n",
       " (<Latitude 16.64217106 deg>, <Longitude 91.63357231 deg>),\n",
       " (<Latitude -14.3998069 deg>, <Longitude 89.75286887 deg>),\n",
       " (<Latitude -15.55078374 deg>, <Longitude 226.63380823 deg>),\n",
       " (<Latitude -40.42825261 deg>, <Longitude 48.57907833 deg>),\n",
       " (<Latitude -76.46595843 deg>, <Longitude 213.61790564 deg>),\n",
       " (<Latitude -51.08696114 deg>, <Longitude 72.08651475 deg>),\n",
       " (<Latitude -53.13859519 deg>, <Longitude 285.93121387 deg>),\n",
       " (<Latitude -9.69607389 deg>, <Longitude 2.15128416 deg>),\n",
       " (<Latitude 76.9560202 deg>, <Longitude 197.63728034 deg>),\n",
       " (<Latitude 37.98097699 deg>, <Longitude 309.60795381 deg>),\n",
       " (<Latitude -17.82041055 deg>, <Longitude 159.98671405 deg>),\n",
       " (<Latitude -11.11461928 deg>, <Longitude 333.78781491 deg>),\n",
       " (<Latitude 36.85778348 deg>, <Longitude 20.40300613 deg>),\n",
       " (<Latitude -10.52907699 deg>, <Longitude 203.35030503 deg>),\n",
       " (<Latitude 4.09678194 deg>, <Longitude 141.1021063 deg>),\n",
       " (<Latitude -21.36389631 deg>, <Longitude 41.34781726 deg>),\n",
       " (<Latitude -48.45409791 deg>, <Longitude 126.96913104 deg>),\n",
       " (<Latitude -69.31720986 deg>, <Longitude 2.24864351 deg>),\n",
       " (<Latitude -21.14147246 deg>, <Longitude 253.90526058 deg>),\n",
       " (<Latitude -31.29860574 deg>, <Longitude 180.23327841 deg>),\n",
       " (<Latitude -6.4786314 deg>, <Longitude 262.80871043 deg>),\n",
       " (<Latitude -16.0860271 deg>, <Longitude 313.1245855 deg>),\n",
       " (<Latitude -77.49647689 deg>, <Longitude 117.18368697 deg>)]"
      ]
     },
     "execution_count": 63,
     "metadata": {},
     "output_type": "execute_result"
    }
   ],
   "source": [
    "import util\n",
    "importlib.reload(util)\n",
    "\n",
    "tles_check = []\n",
    "with open('tles_sgp4.tle', 'r') as f:\n",
    "    while True:\n",
    "        line1 = f.readline()\n",
    "        if not line1 or line1.strip() == \"\":\n",
    "            break  # stop if first line is empty\n",
    "\n",
    "        line2 = f.readline()\n",
    "        if not line2 or line2.strip() == \"\":\n",
    "            break  # stop if second line is empty\n",
    "        \n",
    "        tles_check.append(util.TLE(line1.strip(), line2.strip()))\n",
    "\n",
    "sat_check = []\n",
    "for tle in tles_check:\n",
    "    sat_check.append(util.get_position_at_time(tle, obstime, location))\n",
    "\n",
    "sat_check"
   ]
  },
  {
   "cell_type": "code",
   "execution_count": 64,
   "id": "18c2702c-1fb7-4a25-a64b-a67749a37fae",
   "metadata": {},
   "outputs": [
    {
     "data": {
      "text/html": [
       "<div><style>\n",
       ".dataframe > thead > tr,\n",
       ".dataframe > tbody > tr {\n",
       "  text-align: right;\n",
       "  white-space: pre-wrap;\n",
       "}\n",
       "</style>\n",
       "<small>shape: (10, 3)</small><table border=\"1\" class=\"dataframe\"><thead><tr><th>name</th><th>alt</th><th>az</th></tr><tr><td>str</td><td>f64</td><td>f64</td></tr></thead><tbody><tr><td>&quot;NAVSTAR 47 (USA 150)&quot;</td><td>16.642376</td><td>91.633704</td></tr><tr><td>&quot;NAVSTAR 81 (USA 319)&quot;</td><td>8.048966</td><td>45.01476</td></tr><tr><td>&quot;NAVSTAR 43 (USA 132)&quot;</td><td>49.903986</td><td>140.065598</td></tr><tr><td>&quot;NAVSTAR 60 (USA 196)&quot;</td><td>76.956355</td><td>197.642354</td></tr><tr><td>&quot;NAVSTAR 61 (USA 199)&quot;</td><td>37.980936</td><td>309.60797</td></tr><tr><td>&quot;NAVSTAR 67 (USA 239)&quot;</td><td>36.857815</td><td>20.403034</td></tr><tr><td>&quot;NAVSTAR 78 (USA 293)&quot;</td><td>45.372665</td><td>219.380969</td></tr><tr><td>&quot;NAVSTAR 79 (USA 304)&quot;</td><td>22.556092</td><td>245.454394</td></tr><tr><td>&quot;NAVSTAR 69 (USA 248)&quot;</td><td>4.096493</td><td>141.102433</td></tr><tr><td>&quot;NAVSTAR 64 (USA 206)&quot;</td><td>44.369909</td><td>123.403165</td></tr></tbody></table></div>"
      ],
      "text/plain": [
       "shape: (10, 3)\n",
       "┌──────────────────────┬───────────┬────────────┐\n",
       "│ name                 ┆ alt       ┆ az         │\n",
       "│ ---                  ┆ ---       ┆ ---        │\n",
       "│ str                  ┆ f64       ┆ f64        │\n",
       "╞══════════════════════╪═══════════╪════════════╡\n",
       "│ NAVSTAR 47 (USA 150) ┆ 16.642376 ┆ 91.633704  │\n",
       "│ NAVSTAR 81 (USA 319) ┆ 8.048966  ┆ 45.01476   │\n",
       "│ NAVSTAR 43 (USA 132) ┆ 49.903986 ┆ 140.065598 │\n",
       "│ NAVSTAR 60 (USA 196) ┆ 76.956355 ┆ 197.642354 │\n",
       "│ NAVSTAR 61 (USA 199) ┆ 37.980936 ┆ 309.60797  │\n",
       "│ NAVSTAR 67 (USA 239) ┆ 36.857815 ┆ 20.403034  │\n",
       "│ NAVSTAR 78 (USA 293) ┆ 45.372665 ┆ 219.380969 │\n",
       "│ NAVSTAR 79 (USA 304) ┆ 22.556092 ┆ 245.454394 │\n",
       "│ NAVSTAR 69 (USA 248) ┆ 4.096493  ┆ 141.102433 │\n",
       "│ NAVSTAR 64 (USA 206) ┆ 44.369909 ┆ 123.403165 │\n",
       "└──────────────────────┴───────────┴────────────┘"
      ]
     },
     "execution_count": 64,
     "metadata": {},
     "output_type": "execute_result"
    }
   ],
   "source": [
    "df"
   ]
  },
  {
   "cell_type": "code",
   "execution_count": 59,
   "id": "3fd4f139-fb8b-42c7-ba96-187a0eea5d77",
   "metadata": {},
   "outputs": [
    {
     "name": "stdout",
     "output_type": "stream",
     "text": [
      "Loaded 54 satellites\n"
     ]
    }
   ],
   "source": [
    "from skyfield.api import load, EarthSatellite\n",
    "from skyfield.iokit import parse_tle_file\n",
    "import json\n",
    "ts = load.timescale()\n",
    "\n",
    "with load.open('gp2_2.tle') as f:\n",
    "    data = json.load(f)\n",
    "\n",
    "ts = load.timescale()\n",
    "sats = [EarthSatellite.from_omm(ts, fields) for fields in data]\n",
    "\n",
    "print('Loaded', len(data), 'satellites')"
   ]
  },
  {
   "cell_type": "code",
   "execution_count": 60,
   "id": "1b7c801d-d7b9-4feb-8473-db79421f857c",
   "metadata": {},
   "outputs": [
    {
     "name": "stdout",
     "output_type": "stream",
     "text": [
      "10\n"
     ]
    },
    {
     "data": {
      "text/html": [
       "<div><style>\n",
       ".dataframe > thead > tr,\n",
       ".dataframe > tbody > tr {\n",
       "  text-align: right;\n",
       "  white-space: pre-wrap;\n",
       "}\n",
       "</style>\n",
       "<small>shape: (10, 5)</small><table border=\"1\" class=\"dataframe\"><thead><tr><th>name</th><th>alt</th><th>az</th><th>theta</th><th>phi</th></tr><tr><td>str</td><td>f64</td><td>f64</td><td>f64</td><td>f64</td></tr></thead><tbody><tr><td>&quot;NAVSTAR 69 (USA 248)&quot;</td><td>4.096493</td><td>141.102433</td><td>85.903507</td><td>308.897567</td></tr><tr><td>&quot;NAVSTAR 81 (USA 319)&quot;</td><td>8.048966</td><td>45.01476</td><td>81.951034</td><td>44.98524</td></tr><tr><td>&quot;NAVSTAR 47 (USA 150)&quot;</td><td>16.642376</td><td>91.633704</td><td>73.357624</td><td>358.366296</td></tr><tr><td>&quot;NAVSTAR 79 (USA 304)&quot;</td><td>22.556092</td><td>245.454394</td><td>67.443908</td><td>204.545606</td></tr><tr><td>&quot;NAVSTAR 67 (USA 239)&quot;</td><td>36.857815</td><td>20.403034</td><td>53.142185</td><td>69.596966</td></tr><tr><td>&quot;NAVSTAR 61 (USA 199)&quot;</td><td>37.980936</td><td>309.60797</td><td>52.019064</td><td>140.39203</td></tr><tr><td>&quot;NAVSTAR 64 (USA 206)&quot;</td><td>44.369909</td><td>123.403165</td><td>45.630091</td><td>326.596835</td></tr><tr><td>&quot;NAVSTAR 78 (USA 293)&quot;</td><td>45.372665</td><td>219.380969</td><td>44.627335</td><td>230.619031</td></tr><tr><td>&quot;NAVSTAR 43 (USA 132)&quot;</td><td>49.903986</td><td>140.065598</td><td>40.096014</td><td>309.934402</td></tr><tr><td>&quot;NAVSTAR 60 (USA 196)&quot;</td><td>76.956355</td><td>197.642354</td><td>13.043645</td><td>252.357646</td></tr></tbody></table></div>"
      ],
      "text/plain": [
       "shape: (10, 5)\n",
       "┌──────────────────────┬───────────┬────────────┬───────────┬────────────┐\n",
       "│ name                 ┆ alt       ┆ az         ┆ theta     ┆ phi        │\n",
       "│ ---                  ┆ ---       ┆ ---        ┆ ---       ┆ ---        │\n",
       "│ str                  ┆ f64       ┆ f64        ┆ f64       ┆ f64        │\n",
       "╞══════════════════════╪═══════════╪════════════╪═══════════╪════════════╡\n",
       "│ NAVSTAR 69 (USA 248) ┆ 4.096493  ┆ 141.102433 ┆ 85.903507 ┆ 308.897567 │\n",
       "│ NAVSTAR 81 (USA 319) ┆ 8.048966  ┆ 45.01476   ┆ 81.951034 ┆ 44.98524   │\n",
       "│ NAVSTAR 47 (USA 150) ┆ 16.642376 ┆ 91.633704  ┆ 73.357624 ┆ 358.366296 │\n",
       "│ NAVSTAR 79 (USA 304) ┆ 22.556092 ┆ 245.454394 ┆ 67.443908 ┆ 204.545606 │\n",
       "│ NAVSTAR 67 (USA 239) ┆ 36.857815 ┆ 20.403034  ┆ 53.142185 ┆ 69.596966  │\n",
       "│ NAVSTAR 61 (USA 199) ┆ 37.980936 ┆ 309.60797  ┆ 52.019064 ┆ 140.39203  │\n",
       "│ NAVSTAR 64 (USA 206) ┆ 44.369909 ┆ 123.403165 ┆ 45.630091 ┆ 326.596835 │\n",
       "│ NAVSTAR 78 (USA 293) ┆ 45.372665 ┆ 219.380969 ┆ 44.627335 ┆ 230.619031 │\n",
       "│ NAVSTAR 43 (USA 132) ┆ 49.903986 ┆ 140.065598 ┆ 40.096014 ┆ 309.934402 │\n",
       "│ NAVSTAR 60 (USA 196) ┆ 76.956355 ┆ 197.642354 ┆ 13.043645 ┆ 252.357646 │\n",
       "└──────────────────────┴───────────┴────────────┴───────────┴────────────┘"
      ]
     },
     "execution_count": 60,
     "metadata": {},
     "output_type": "execute_result"
    }
   ],
   "source": [
    "from skyfield.api import wgs84, Topos\n",
    "\n",
    "meerkat = Topos(latitude_degrees=-30.71106,\n",
    "                longitude_degrees=21.44389,\n",
    "                elevation_m= 1086.6)\n",
    "\n",
    "obs_site = meerkat\n",
    "t_obs = ts.utc(2024, 2, 16, 11, 21, 22)\n",
    "sats_visible = []\n",
    "sats_processed = set()\n",
    "\n",
    "for satellite in sats:\n",
    "    # There are some duplicate TLEs - don't worry about this.\n",
    "    # any of them should give essentially the same result.\n",
    "    if satellite.name in sats_processed:\n",
    "        continue\n",
    "    event_dict = {}\n",
    "    event_dict['name'] = satellite.name\n",
    "\n",
    "    topocentric = (satellite - obs_site).at(t_obs)\n",
    "    alt, az, _ = topocentric.altaz()\n",
    "    event_dict['alt'] = alt.degrees\n",
    "    event_dict['az'] = az.degrees\n",
    "    if alt.degrees > 0:\n",
    "        sats_visible.append(event_dict)\n",
    "    sats_processed.add(satellite.name)\n",
    "\n",
    "df = pl.from_records(sats_visible)\n",
    "#df.write_excel('sats.xlsx')\n",
    "#len(sats_processed)\n",
    "print(len(sats_visible))\n",
    "df.with_columns(theta=pl.lit(90) - pl.col('alt'), phi=(pl.lit(450) - pl.col('az'))%360).sort(by=\"alt\", descending=False)\n"
   ]
  },
  {
   "cell_type": "code",
   "execution_count": 61,
   "id": "71475ad9-6d84-4ad2-bdeb-b3c7d72991bb",
   "metadata": {},
   "outputs": [
    {
     "data": {
      "text/html": [
       "<div><style>\n",
       ".dataframe > thead > tr,\n",
       ".dataframe > tbody > tr {\n",
       "  text-align: right;\n",
       "  white-space: pre-wrap;\n",
       "}\n",
       "</style>\n",
       "<small>shape: (10, 6)</small><table border=\"1\" class=\"dataframe\"><thead><tr><th>phi</th><th>theta</th><th>Q</th><th>Q_db</th><th>dist_from_theta</th><th>dist_from_phi</th></tr><tr><td>f64</td><td>f64</td><td>f64</td><td>f64</td><td>f64</td><td>f64</td></tr></thead><tbody><tr><td>242.723632</td><td>30.771696</td><td>0.063721</td><td>0.0</td><td>59.228304</td><td>207.276368</td></tr><tr><td>191.775701</td><td>2.411215</td><td>0.062699</td><td>-0.070223</td><td>87.588785</td><td>258.224299</td></tr><tr><td>49.025367</td><td>25.489987</td><td>0.062034</td><td>-0.116556</td><td>64.510013</td><td>40.974633</td></tr><tr><td>152.363151</td><td>81.981308</td><td>0.061689</td><td>-0.140766</td><td>8.018692</td><td>297.636849</td></tr><tr><td>43.738318</td><td>45.009346</td><td>0.061405</td><td>-0.160761</td><td>44.990654</td><td>46.261682</td></tr><tr><td>73.05741</td><td>77.618158</td><td>0.061291</td><td>-0.168833</td><td>12.381842</td><td>16.94259</td></tr><tr><td>309.53271</td><td>63.839786</td><td>0.061161</td><td>-0.178068</td><td>26.160214</td><td>140.46729</td></tr><tr><td>291.748999</td><td>82.899866</td><td>0.060891</td><td>-0.197281</td><td>7.100134</td><td>158.251001</td></tr><tr><td>106.70227</td><td>61.543391</td><td>0.06077</td><td>-0.205928</td><td>28.456609</td><td>343.29773</td></tr><tr><td>28.838451</td><td>67.628838</td><td>0.060716</td><td>-0.209796</td><td>22.371162</td><td>61.161549</td></tr></tbody></table></div>"
      ],
      "text/plain": [
       "shape: (10, 6)\n",
       "┌────────────┬───────────┬──────────┬───────────┬─────────────────┬───────────────┐\n",
       "│ phi        ┆ theta     ┆ Q        ┆ Q_db      ┆ dist_from_theta ┆ dist_from_phi │\n",
       "│ ---        ┆ ---       ┆ ---      ┆ ---       ┆ ---             ┆ ---           │\n",
       "│ f64        ┆ f64       ┆ f64      ┆ f64       ┆ f64             ┆ f64           │\n",
       "╞════════════╪═══════════╪══════════╪═══════════╪═════════════════╪═══════════════╡\n",
       "│ 242.723632 ┆ 30.771696 ┆ 0.063721 ┆ 0.0       ┆ 59.228304       ┆ 207.276368    │\n",
       "│ 191.775701 ┆ 2.411215  ┆ 0.062699 ┆ -0.070223 ┆ 87.588785       ┆ 258.224299    │\n",
       "│ 49.025367  ┆ 25.489987 ┆ 0.062034 ┆ -0.116556 ┆ 64.510013       ┆ 40.974633     │\n",
       "│ 152.363151 ┆ 81.981308 ┆ 0.061689 ┆ -0.140766 ┆ 8.018692        ┆ 297.636849    │\n",
       "│ 43.738318  ┆ 45.009346 ┆ 0.061405 ┆ -0.160761 ┆ 44.990654       ┆ 46.261682     │\n",
       "│ 73.05741   ┆ 77.618158 ┆ 0.061291 ┆ -0.168833 ┆ 12.381842       ┆ 16.94259      │\n",
       "│ 309.53271  ┆ 63.839786 ┆ 0.061161 ┆ -0.178068 ┆ 26.160214       ┆ 140.46729     │\n",
       "│ 291.748999 ┆ 82.899866 ┆ 0.060891 ┆ -0.197281 ┆ 7.100134        ┆ 158.251001    │\n",
       "│ 106.70227  ┆ 61.543391 ┆ 0.06077  ┆ -0.205928 ┆ 28.456609       ┆ 343.29773     │\n",
       "│ 28.838451  ┆ 67.628838 ┆ 0.060716 ┆ -0.209796 ┆ 22.371162       ┆ 61.161549     │\n",
       "└────────────┴───────────┴──────────┴───────────┴─────────────────┴───────────────┘"
      ]
     },
     "execution_count": 61,
     "metadata": {},
     "output_type": "execute_result"
    }
   ],
   "source": [
    "output.with_columns(dist_from_theta=90 - pl.col('theta'), dist_from_phi = (450-pl.col('phi')) % 360).sort(by=\"Q\", descending=True).head(10)"
   ]
  },
  {
   "cell_type": "code",
   "execution_count": 50,
   "id": "440d0408-4922-440e-98b1-463e4ad59608",
   "metadata": {},
   "outputs": [
    {
     "name": "stdout",
     "output_type": "stream",
     "text": [
      "0.034563616297615875\n",
      "0.032586414348690314\n",
      "0.03196086621724517\n"
     ]
    }
   ],
   "source": [
    "evals_adj, evecs_adj = np.linalg.eigh(R_adj)\n",
    "evals, evecs = np.linalg.eigh(R)\n",
    "num_int = 5\n",
    "\n",
    "sat_factor = array.steering_vector([np.deg2rad(230.619031), np.deg2rad(44.627335)], wavelength)\n",
    "\n",
    "\n",
    "print(1/np.abs(sat_factor.conj().T @ evecs[:, :-num_int] @ evecs[:,:-num_int].conj().T @ sat_factor))\n",
    "print(1/np.abs(sat_factor.conj().T @ evecs_adj[:, :-num_int] @ evecs_adj[:,:-num_int].conj().T @ sat_factor))\n",
    "\n",
    "sat_factor = array.steering_vector([np.deg2rad(171.59215), np.deg2rad(82.043341)], wavelength)\n",
    "print(1/np.abs(sat_factor.conj().T @ evecs_adj[:, :-num_int] @ evecs_adj[:,:-num_int].conj().T @ sat_factor))"
   ]
  },
  {
   "cell_type": "code",
   "execution_count": 102,
   "id": "bae11b5b-9a21-44f4-949d-38c1ef802543",
   "metadata": {},
   "outputs": [
    {
     "name": "stdout",
     "output_type": "stream",
     "text": [
      " message: Optimization terminated successfully.\n",
      " success: True\n",
      "  status: 0\n",
      "     fun: 19.148624363182986\n",
      "       x: [ 4.405e+00 -3.181e-01]\n",
      "     nit: 3\n",
      "   direc: [[ 1.000e+00  0.000e+00]\n",
      "           [ 2.010e-05 -8.927e-10]]\n",
      "    nfev: 156\n",
      "145.9555646020226\n",
      "-28.62705577383894\n"
     ]
    }
   ],
   "source": [
    "import scipy.optimize as opt\n",
    "num_int = 7\n",
    "def _opt(args):\n",
    "    phi, theta = args\n",
    "    phi *= 360\n",
    "    theta *= 90\n",
    "\n",
    "    sat_factor = array.steering_vector([np.deg2rad(171.59215), np.deg2rad(82.043341)], wavelength)\n",
    "    array_factor = array.steering_vector([np.deg2rad(phi), np.deg2rad(theta)], wavelength)\n",
    "    X_adj = X.copy()\n",
    "    for i, shift in enumerate(array_factor):\n",
    "        X_adj[i, :] = X_adj[i, :] * array_factor[i].conj()\n",
    "\n",
    "    R_adj = X_adj @ X_adj.conj().T / (N-1)\n",
    "\n",
    "    evals, evecs = np.linalg.eigh(R_adj)\n",
    "\n",
    "    return np.abs(sat_factor.conj().T @ evecs[:, :-num_int] @ evecs[:,:-num_int].conj().T @ sat_factor)\n",
    "\n",
    "\n",
    "result = opt.minimize(_opt, [0.3, 0.3], method=\"Powell\")\n",
    "print(result)\n",
    "print(result.x[0] * 360 % 360)\n",
    "print(result.x[1] * 90)"
   ]
  },
  {
   "cell_type": "code",
   "execution_count": 32,
   "id": "9a063a64-48be-4849-881e-6cb006417e88",
   "metadata": {},
   "outputs": [
    {
     "data": {
      "text/plain": [
       "np.float64(0.03650969600519887)"
      ]
     },
     "execution_count": 32,
     "metadata": {},
     "output_type": "execute_result"
    }
   ],
   "source": [
    "sat_factor = array.steering_vector([np.deg2rad(0), np.deg2rad(0)], wavelength)\n",
    "\n",
    "\n",
    "1 / np.abs(sat_factor.conj().T @ evecs[:, :-5] @ evecs[:,:-5].conj().T @ sat_factor)"
   ]
  },
  {
   "cell_type": "code",
   "execution_count": 163,
   "id": "775ba7c8-75a8-44f3-bf42-c2a03731fffc",
   "metadata": {},
   "outputs": [
    {
     "name": "stdout",
     "output_type": "stream",
     "text": [
      "UTC Time: 2024-02-16 11:21:22.093\n",
      "Year: 2024\n",
      "Datetime: 2024-02-16 11:21:22.092702\n"
     ]
    }
   ],
   "source": [
    "from astropy.time import Time\n",
    "\n",
    "# Your MJD value (example)\n",
    "mjd = 60356.47317236924195\n",
    "\n",
    "# Create Time object\n",
    "t = Time(mjd, format='mjd', scale='utc')\n",
    "\n",
    "# Print UTC as ISO format\n",
    "print(\"UTC Time:\", t.utc.iso)\n",
    "\n",
    "# Or get components\n",
    "print(\"Year:\", t.utc.datetime.year)\n",
    "print(\"Datetime:\", t.utc.datetime)"
   ]
  },
  {
   "cell_type": "code",
   "execution_count": 164,
   "id": "fabe66d4-2f2e-494c-85f2-41f20651ed9a",
   "metadata": {},
   "outputs": [
    {
     "data": {
      "text/plain": [
       "9576625.173138944"
      ]
     },
     "execution_count": 164,
     "metadata": {},
     "output_type": "execute_result"
    }
   ],
   "source": [
    "## Near-field limit calculation\n",
    "1500**2 / (constants.c / 1.276e9)"
   ]
  },
  {
   "cell_type": "code",
   "execution_count": null,
   "id": "028f6b82-cf27-4f9e-baf0-a5eb0f5b26b5",
   "metadata": {},
   "outputs": [],
   "source": []
  }
 ],
 "metadata": {
  "kernelspec": {
   "display_name": "Python 3 (ipykernel)",
   "language": "python",
   "name": "python3"
  },
  "language_info": {
   "codemirror_mode": {
    "name": "ipython",
    "version": 3
   },
   "file_extension": ".py",
   "mimetype": "text/x-python",
   "name": "python",
   "nbconvert_exporter": "python",
   "pygments_lexer": "ipython3",
   "version": "3.13.2"
  }
 },
 "nbformat": 4,
 "nbformat_minor": 5
}
