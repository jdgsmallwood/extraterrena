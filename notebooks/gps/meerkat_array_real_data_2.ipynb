{
 "cells": [
  {
   "cell_type": "code",
   "execution_count": 107,
   "id": "ef9ef6b1-b233-4871-b86c-2417cc59ab7e",
   "metadata": {},
   "outputs": [],
   "source": [
    "\n",
    "import polars as pl\n",
    "from spatial_filtering import arrays, constants, direction_of_arrival\n",
    "import importlib\n",
    "\n",
    "importlib.reload(arrays)\n",
    "importlib.reload(constants)\n",
    "importlib.reload(direction_of_arrival)\n",
    "\n",
    "meerkat_pos = pl.read_excel('meerkat positions.xlsx')\n",
    "meerkat_pos = meerkat_pos.with_columns(distance_from_center_m=(pl.col('East')**2 + pl.col('North')**2 + pl.col('Up')**2).sqrt())\n",
    "meerkat_pos_core = meerkat_pos.filter(pl.col('distance_from_center_m') < 500)\n",
    "core_indices = [int(r[-2:]) for r in meerkat_pos_core['Antenna'].to_list()]\n",
    "data_np = meerkat_pos_core[['East', 'North', 'Up']].to_numpy()\n",
    "\n",
    "from spatial_filtering.arrays import Array\n",
    "import numpy as np\n",
    "\n",
    "array = arrays.Array(data_np)\n",
    "N = array.num_antennas\n",
    "f = 1.227574219e9              # Frequency 1.2276 GHz GPS L2 band.\n",
    "wavelength = constants.c / f\n",
    "snapshots = 2000\n"
   ]
  },
  {
   "cell_type": "code",
   "execution_count": 92,
   "id": "55684d9d-059d-4eed-85d9-0b81f8e749a9",
   "metadata": {},
   "outputs": [
    {
     "data": {
      "text/plain": [
       "[0,\n",
       " 1,\n",
       " 2,\n",
       " 3,\n",
       " 4,\n",
       " 5,\n",
       " 6,\n",
       " 7,\n",
       " 9,\n",
       " 11,\n",
       " 12,\n",
       " 13,\n",
       " 14,\n",
       " 15,\n",
       " 16,\n",
       " 17,\n",
       " 18,\n",
       " 19,\n",
       " 20,\n",
       " 21,\n",
       " 22,\n",
       " 23,\n",
       " 24,\n",
       " 25,\n",
       " 26,\n",
       " 27,\n",
       " 28,\n",
       " 29,\n",
       " 30,\n",
       " 31,\n",
       " 32,\n",
       " 34,\n",
       " 35,\n",
       " 36]"
      ]
     },
     "execution_count": 92,
     "metadata": {},
     "output_type": "execute_result"
    }
   ],
   "source": [
    "core_indices"
   ]
  },
  {
   "cell_type": "code",
   "execution_count": 112,
   "id": "3c02d5ed-11f6-4d3b-a5fc-65ff24138d87",
   "metadata": {},
   "outputs": [
    {
     "name": "stdout",
     "output_type": "stream",
     "text": [
      "{'HEADER': 'DADA', 'HDR_VERSION': '1.0', 'HDR_SIZE': 4096, 'DADA_VERSION': '1.0', 'OBS_ID': 'None', 'FILE_SIZE': '3048214528', 'FILE_NUMBER': '0', 'UTC_START': '1708082482.092702505', 'MJD_START': '60356.47317236924195', 'OBS_OFFSET': '0', 'OBS_OVERLAP': '0', 'SOURCE': 'J1644-4559_Offset1', 'RA': '16:44:26.25', 'DEC': '-45:59:09.6', 'TELESCOPE': 'MeerKAT', 'INSTRUMENT': 'CBF-Feng', 'RECEIVER': 'L-band', 'FREQ': '1284000000.000000', 'BW': '856000000.000000', 'TSAMP': '4.7850467290', 'BYTES_PER_SECOND': '3424000000.000000', 'NBIT': 8, 'NDIM': 2, 'NPOL': 2, 'NCHAN': 64, 'NANT': 57, 'ORDER': 'TAFTP', 'INNER_T': 256, 'SYNC_TIME': '1708039531.000000', 'SAMPLE_CLOCK': '1712000000.000000', 'SAMPLE_CLOCK_START': '73532270706688', 'CHAN0_IDX': 1728, 'Lowest_freq (MHz)': 1217.125}\n"
     ]
    }
   ],
   "source": [
    "from dadanalyse import read_dada\n",
    "GPS_CHANNEL = 50\n",
    "POL = 0\n",
    "# J1644-4559_2024-02-16T11:21:22.092_29_73532270706688.dada\n",
    "dada = read_dada(\"../gps.dada\")\n",
    "print(dada.get_header())\n",
    "dada = dada.combined_data()\n",
    "\n"
   ]
  },
  {
   "cell_type": "code",
   "execution_count": 113,
   "id": "79acee3d-8793-4e04-834e-581fe729055f",
   "metadata": {},
   "outputs": [
    {
     "data": {
      "text/plain": [
       "array([ 0.29380879-0.95586421j, -0.38789908+0.92170185j,\n",
       "       -0.80562962-0.59241955j,  0.89094245+0.45411623j,\n",
       "        0.63052321+0.77617039j, -0.54047739-0.84135854j,\n",
       "       -0.7179779 +0.69606589j,  0.99995061-0.00993887j,\n",
       "       -0.99152701+0.12990066j, -0.91580951+0.40161293j,\n",
       "        0.22433012+0.97451321j, -0.95112676+0.30880072j,\n",
       "        0.38387379-0.92338557j,  0.70552644+0.7086836j ,\n",
       "        0.77828376-0.62791273j, -0.49022161+0.87159783j,\n",
       "        0.9929999 -0.1181152j ,  0.07410256-0.99725063j,\n",
       "       -0.93833154-0.34573679j,  0.08121442-0.99669665j,\n",
       "        0.67891664-0.73421536j,  0.94433605+0.3289824j ,\n",
       "        0.53076907+0.84751649j,  0.01367786+0.99990645j,\n",
       "        0.76778561+0.64070684j, -0.99951007+0.03129872j,\n",
       "       -0.10965214-0.99397002j, -0.98281239+0.18460718j,\n",
       "        0.31836857+0.94796701j, -0.86498433+0.50179887j,\n",
       "        0.5036235 -0.86392324j, -0.07489689+0.99719128j,\n",
       "        0.66157129-0.74988227j, -0.14029655-0.99010953j])"
      ]
     },
     "execution_count": 113,
     "metadata": {},
     "output_type": "execute_result"
    }
   ],
   "source": [
    "array.steering_vector([0,0], wavelength)"
   ]
  },
  {
   "cell_type": "code",
   "execution_count": null,
   "id": "1c7a0f6b-1c68-40f2-b759-c4e332ad4ced",
   "metadata": {},
   "outputs": [],
   "source": []
  },
  {
   "cell_type": "code",
   "execution_count": 114,
   "id": "8e33365b-0d94-43f4-9c01-2d0372434b99",
   "metadata": {},
   "outputs": [
    {
     "data": {
      "text/plain": [
       "(208896, 57, 64, 2)"
      ]
     },
     "execution_count": 114,
     "metadata": {},
     "output_type": "execute_result"
    }
   ],
   "source": [
    "dada.shape"
   ]
  },
  {
   "cell_type": "code",
   "execution_count": 115,
   "id": "5bb9ee2d-e0a1-48a4-a4e8-0e18dd8fc657",
   "metadata": {},
   "outputs": [],
   "source": [
    "dada = dada[0:2000, core_indices, GPS_CHANNEL, POL].T\n",
    "X = dada"
   ]
  },
  {
   "cell_type": "code",
   "execution_count": 97,
   "id": "b4f32feb-1a6b-4a61-b720-8d0d41806570",
   "metadata": {},
   "outputs": [
    {
     "name": "stdout",
     "output_type": "stream",
     "text": [
      "(5109360.133321234, 2006852.5860429062, -3238948.1274788757) m\n"
     ]
    }
   ],
   "source": [
    "from skyfield.api import load, Topos, EarthSatellite\n",
    "from datetime import datetime\n",
    "import numpy as np\n",
    "\n",
    "# Location: MeerKAT Telescope (converted to decimal degrees)\n",
    "lat = -30.71106\n",
    "lon = 21.44389\n",
    "elevation_m = 1086.6\n",
    "\n",
    "# Time: Convert UNIX timestamp to UTC\n",
    "timestamp = 1708082482.092702505\n",
    "dt = datetime.utcfromtimestamp(timestamp)\n",
    "dt\n",
    "\n",
    "lon_str = \"21d26m38s\"   # degrees, minutes, seconds format\n",
    "lat_str = \"-30d42m39.8s\"  # negative for south\n",
    "\n",
    "# Altitude (optional, in meters)\n",
    "height = 1086.6 * u.m\n",
    "\n",
    "# Create location\n",
    "location = EarthLocation.from_geodetic(lon=lon_str, lat=lat_str, height=height)\n",
    "\n",
    "print(location)"
   ]
  },
  {
   "cell_type": "code",
   "execution_count": 98,
   "id": "38f45a71-5241-4f47-9d4a-d88fd1de11db",
   "metadata": {},
   "outputs": [
    {
     "name": "stdout",
     "output_type": "stream",
     "text": [
      "Source RA/DEC\n",
      "Altitude: 24.03 deg\n",
      "Azimuth: 229.33 deg\n"
     ]
    }
   ],
   "source": [
    "from astropy.coordinates import SkyCoord, EarthLocation, AltAz\n",
    "from astropy.time import Time\n",
    "import astropy.units as u\n",
    "\n",
    "# Observer location (MeerKAT)\n",
    "obs_location = EarthLocation(lat=lat*u.deg,\n",
    "                         lon=lon*u.deg,\n",
    "                         height=elevation_m*u.m)\n",
    "\n",
    "# Time of observation (UTC)\n",
    "obstime = Time('2024-02-16 11:21:22')\n",
    "\n",
    "# RA/DEC coordinates\n",
    "ra_str = '16:44:26.25'\n",
    "dec_str = '-45:59:09.6'\n",
    "\n",
    "# Create SkyCoord object in ICRS (equatorial)\n",
    "sky_coord = SkyCoord(ra=ra_str, dec=dec_str, unit=(u.hourangle, u.deg), frame='icrs')\n",
    "\n",
    "# Create AltAz frame at observer location and time\n",
    "altaz_frame = AltAz(obstime=obstime, location=location)\n",
    "\n",
    "# Transform RA/DEC to AltAz\n",
    "altaz = sky_coord.transform_to(altaz_frame)\n",
    "\n",
    "# Output altitude and azimuth\n",
    "print(\"Source RA/DEC\")\n",
    "print(f\"Altitude: {altaz.alt:.2f}\")\n",
    "print(f\"Azimuth: {altaz.az:.2f}\")\n",
    "\n",
    "theta_source = 90 - altaz.alt.degree\n",
    "phi_source = (90 - altaz.az.degree) % 360"
   ]
  },
  {
   "cell_type": "code",
   "execution_count": null,
   "id": "ef159a1a-e474-47cc-b532-a3e4de98d2c9",
   "metadata": {},
   "outputs": [],
   "source": []
  },
  {
   "cell_type": "code",
   "execution_count": 99,
   "id": "4e649237-1835-4a5d-adf0-bd278975838c",
   "metadata": {},
   "outputs": [],
   "source": [
    "array_factor = array.steering_vector([np.deg2rad(phi_source), np.deg2rad(theta_source)], wavelength)\n",
    "#X = X.T\n",
    "X_adj = X.copy()\n",
    "for i, shift in enumerate(array_factor):\n",
    "    X_adj[i, :] = X_adj[i, :] * array_factor[i].conj()\n",
    "\n",
    "R = X @ X.conj().T / (N-1)\n",
    "R_adj = X_adj @ X_adj.conj().T / (N-1)"
   ]
  },
  {
   "cell_type": "code",
   "execution_count": 100,
   "id": "ab16bdd1-077a-4aa9-8553-91a9bf9d3f8c",
   "metadata": {},
   "outputs": [
    {
     "data": {
      "text/plain": [
       "array([[57253.85     +0.j    , -1857.6365-7104.485j ,\n",
       "         4543.606 +4202.8486j, ...,  6561.7275+1706.0304j,\n",
       "        -5614.4546-6793.8486j, -3782.5457-6208.576j ],\n",
       "       [-1857.6365+7104.485j , 53519.457    +0.j    ,\n",
       "        -4328.091 +2280.6062j, ..., -3793.7576+5632.9697j,\n",
       "         6008.6064-6115.6367j,  1823.1819+7210.0913j],\n",
       "       [ 4543.606 -4202.8486j, -4328.091 -2280.6062j,\n",
       "        59934.426    +0.j    , ..., 12704.909 -4904.0303j,\n",
       "        -6734.576 +8737.939j , -7210.485 -6355.788j ],\n",
       "       ...,\n",
       "       [ 6561.7275-1706.0304j, -3793.7576-5632.9697j,\n",
       "        12704.909 +4904.0303j, ..., 57076.7      +0.j    ,\n",
       "        -8230.151 +5723.182j , -4744.0303-9713.j    ],\n",
       "       [-5614.4546+6793.8486j,  6008.6064+6115.6367j,\n",
       "        -6734.576 -8737.939j , ..., -8230.151 -5723.182j ,\n",
       "        59026.73     +0.j    , -6225.9395+4561.6367j],\n",
       "       [-3782.5457+6208.576j ,  1823.1819-7210.0913j,\n",
       "        -7210.485 +6355.788j , ..., -4744.0303+9713.j    ,\n",
       "        -6225.9395-4561.6367j, 58732.273    +0.j    ]],\n",
       "      shape=(34, 34), dtype=complex64)"
      ]
     },
     "execution_count": 100,
     "metadata": {},
     "output_type": "execute_result"
    }
   ],
   "source": [
    "import numpy as np\n",
    "\n",
    "evals, evecs = np.linalg.eigh(R)\n",
    "R"
   ]
  },
  {
   "cell_type": "code",
   "execution_count": 101,
   "id": "7f82623f-9e25-4c53-a3c0-98d3e8bcf8c6",
   "metadata": {},
   "outputs": [
    {
     "data": {
      "text/plain": [
       "array([[57253.85   +0.0000000e+00j,  4803.674  +5.5542090e+03j,\n",
       "         5374.2246 +3.0701787e+03j, ...,  5310.684  +4.2146694e+03j,\n",
       "         8811.456  -1.9161501e+02j, -3871.8713 +6.1532642e+03j],\n",
       "       [ 4803.674  -5.5542090e+03j, 53519.457  +0.0000000e+00j,\n",
       "         4733.909  -1.2343584e+03j, ...,  6754.485  -7.0701495e+02j,\n",
       "         2794.2422 -8.1053423e+03j, -7201.537  +1.8566796e+03j],\n",
       "       [ 5374.2246 -3.0701787e+03j,  4733.909  +1.2343584e+03j,\n",
       "        59934.426  +0.0000000e+00j, ..., 13104.872  +3.7049373e+03j,\n",
       "         -196.84476-1.1030293e+04j, -4506.0923 +8.4901279e+03j],\n",
       "       ...,\n",
       "       [ 5310.684  -4.2146694e+03j,  6754.485  +7.0701495e+02j,\n",
       "        13104.872  -3.7049373e+03j, ..., 57076.7    +0.0000000e+00j,\n",
       "        -3486.3782 -9.3986885e+03j, -2548.6433 +1.0504885e+04j],\n",
       "       [ 8811.456  +1.9161501e+02j,  2794.2422 +8.1053423e+03j,\n",
       "         -196.84476+1.1030293e+04j, ..., -3486.3782 +9.3986885e+03j,\n",
       "        59026.73   +0.0000000e+00j, -1475.7306 -7.5758213e+03j],\n",
       "       [-3871.8716 -6.1532661e+03j, -7201.5376 -1.8566799e+03j,\n",
       "        -4506.093  -8.4901270e+03j, ..., -2548.6436 -1.0504886e+04j,\n",
       "        -1475.7303 +7.5758218e+03j, 58732.273  +1.8812430e-05j]],\n",
       "      shape=(34, 34), dtype=complex64)"
      ]
     },
     "execution_count": 101,
     "metadata": {},
     "output_type": "execute_result"
    }
   ],
   "source": [
    "R_adj"
   ]
  },
  {
   "cell_type": "code",
   "execution_count": 102,
   "id": "bbd9d762-12a6-43ba-a708-4eca77e428a2",
   "metadata": {},
   "outputs": [
    {
     "name": "stderr",
     "output_type": "stream",
     "text": [
      "can't invoke \"event\" command: application has been destroyed\n",
      "    while executing\n",
      "\"event generate $w <<ThemeChanged>>\"\n",
      "    (procedure \"ttk::ThemeChanged\" line 6)\n",
      "    invoked from within\n",
      "\"ttk::ThemeChanged\"\n"
     ]
    }
   ],
   "source": [
    "import matplotlib.pyplot as plt\n",
    "\n",
    "plt.plot(evals)\n",
    "plt.show()"
   ]
  },
  {
   "cell_type": "code",
   "execution_count": 103,
   "id": "3d60c4cc-091c-4b61-854f-ea550d7b4062",
   "metadata": {},
   "outputs": [
    {
     "data": {
      "text/plain": [
       "array([ 44724.496,  45110.02 ,  46194.11 ,  47069.992,  47335.273,\n",
       "        48223.836,  49212.336,  50403.38 ,  51309.844,  54316.02 ,\n",
       "        58430.457,  69177.12 , 120083.95 , 159751.81 , 329082.1  ],\n",
       "      dtype=float32)"
      ]
     },
     "execution_count": 103,
     "metadata": {},
     "output_type": "execute_result"
    }
   ],
   "source": [
    "evals[-15:]"
   ]
  },
  {
   "cell_type": "code",
   "execution_count": 104,
   "id": "c85aea1e-3d94-4f41-8509-a4dc5df661c7",
   "metadata": {},
   "outputs": [
    {
     "data": {
      "text/plain": [
       "0.03"
      ]
     },
     "execution_count": 104,
     "metadata": {},
     "output_type": "execute_result"
    }
   ],
   "source": [
    "360 / 12000"
   ]
  },
  {
   "cell_type": "code",
   "execution_count": 108,
   "id": "5677aef5-f22b-41d4-be72-1107d883a79e",
   "metadata": {},
   "outputs": [
    {
     "name": "stderr",
     "output_type": "stream",
     "text": [
      "  0%|                                                        | 9788/144000000 [00:01<4:07:52, 9681.65it/s]\u001b[32m2025-06-05 17:09:59.667\u001b[0m | \u001b[1mINFO    \u001b[0m | \u001b[36mspatial_filtering.direction_of_arrival\u001b[0m:\u001b[36mget_directions\u001b[0m:\u001b[36m166\u001b[0m - \u001b[1m\u001b[0m\n",
      "100%|███████████████████████████████████████████████████| 144000000/144000000 [4:00:46<00:00, 9968.10it/s]\n"
     ]
    }
   ],
   "source": [
    "\n",
    "\n",
    "theta_steps = 6_000\n",
    "phi_steps = 24_000\n",
    "\n",
    "output = direction_of_arrival.MUSICDOA2D().get_directions(\n",
    "    array,\n",
    "    R_adj, \n",
    "    num_interferers=6,\n",
    "    wavelength = wavelength,\n",
    "    theta_min_deg = 0,\n",
    "    theta_max_deg = 86,\n",
    "    theta_steps=theta_steps,\n",
    "    phi_min_deg = 0,\n",
    "    phi_max_deg = 360,\n",
    "    phi_steps=phi_steps,\n",
    ")"
   ]
  },
  {
   "cell_type": "code",
   "execution_count": 110,
   "id": "066abaaf-de5a-4737-92d6-43c7aff05099",
   "metadata": {},
   "outputs": [],
   "source": [
    "output.write_parquet('output.parquet')"
   ]
  },
  {
   "cell_type": "code",
   "execution_count": 36,
   "id": "5b977f91-7bba-4f37-84fb-d8d1da812f2e",
   "metadata": {},
   "outputs": [
    {
     "data": {
      "text/html": [
       "<iframe\n",
       "    scrolling=\"no\"\n",
       "    width=\"100%\"\n",
       "    height=\"545px\"\n",
       "    src=\"iframe_figures/figure_36.html\"\n",
       "    frameborder=\"0\"\n",
       "    allowfullscreen\n",
       "></iframe>\n"
      ]
     },
     "metadata": {},
     "output_type": "display_data"
    }
   ],
   "source": [
    "\n",
    "import plotly.express as px\n",
    "\n",
    "import plotly.io as pio\n",
    "pio.renderers.default = 'iframe'  \n",
    "\n",
    "# Filter top 1% Q values (adjust as needed)\n",
    "threshold = output['Q'].quantile(0.999975)\n",
    "high_Q = output.filter(pl.col('Q') >= threshold)\n",
    "\n",
    "# Create 3D scatter plot\n",
    "fig = px.scatter_3d(\n",
    "    high_Q,\n",
    "    x='theta',  # azimuth\n",
    "    y='phi',      # range\n",
    "    z='Q',      # MUSIC power\n",
    "    color='Q',\n",
    "    color_continuous_scale='Jet',\n",
    "    opacity=0.8\n",
    ")\n",
    "\n",
    "# Update layout for better visuals\n",
    "fig.update_layout(\n",
    "    title='High-Q MUSIC Spectrum Peaks',\n",
    "    scene=dict(\n",
    "        xaxis_title='Angle (degrees)',\n",
    "        yaxis_title='Phi (degrees)',\n",
    "        zaxis_title='Q (dB)'\n",
    "    )\n",
    ")\n",
    "\n",
    "fig.show()"
   ]
  },
  {
   "cell_type": "markdown",
   "id": "1f03546b-debd-4ff4-9a06-d4a71d9cda06",
   "metadata": {},
   "source": [
    "The MJD I want is 60356.47317236924195\n",
    "\n",
    "\n"
   ]
  },
  {
   "cell_type": "code",
   "execution_count": 63,
   "id": "3ab36907-62f6-4434-9bd9-32dcdf0dc216",
   "metadata": {},
   "outputs": [
    {
     "data": {
      "text/plain": [
       "[(<Latitude 49.9011741 deg>, <Longitude 140.06565009 deg>),\n",
       " (<Latitude 16.64217106 deg>, <Longitude 91.63357231 deg>),\n",
       " (<Latitude -14.3998069 deg>, <Longitude 89.75286887 deg>),\n",
       " (<Latitude -15.55078374 deg>, <Longitude 226.63380823 deg>),\n",
       " (<Latitude -40.42825261 deg>, <Longitude 48.57907833 deg>),\n",
       " (<Latitude -76.46595843 deg>, <Longitude 213.61790564 deg>),\n",
       " (<Latitude -51.08696114 deg>, <Longitude 72.08651475 deg>),\n",
       " (<Latitude -53.13859519 deg>, <Longitude 285.93121387 deg>),\n",
       " (<Latitude -9.69607389 deg>, <Longitude 2.15128416 deg>),\n",
       " (<Latitude 76.9560202 deg>, <Longitude 197.63728034 deg>),\n",
       " (<Latitude 37.98097699 deg>, <Longitude 309.60795381 deg>),\n",
       " (<Latitude -17.82041055 deg>, <Longitude 159.98671405 deg>),\n",
       " (<Latitude -11.11461928 deg>, <Longitude 333.78781491 deg>),\n",
       " (<Latitude 36.85778348 deg>, <Longitude 20.40300613 deg>),\n",
       " (<Latitude -10.52907699 deg>, <Longitude 203.35030503 deg>),\n",
       " (<Latitude 4.09678194 deg>, <Longitude 141.1021063 deg>),\n",
       " (<Latitude -21.36389631 deg>, <Longitude 41.34781726 deg>),\n",
       " (<Latitude -48.45409791 deg>, <Longitude 126.96913104 deg>),\n",
       " (<Latitude -69.31720986 deg>, <Longitude 2.24864351 deg>),\n",
       " (<Latitude -21.14147246 deg>, <Longitude 253.90526058 deg>),\n",
       " (<Latitude -31.29860574 deg>, <Longitude 180.23327841 deg>),\n",
       " (<Latitude -6.4786314 deg>, <Longitude 262.80871043 deg>),\n",
       " (<Latitude -16.0860271 deg>, <Longitude 313.1245855 deg>),\n",
       " (<Latitude -77.49647689 deg>, <Longitude 117.18368697 deg>)]"
      ]
     },
     "execution_count": 63,
     "metadata": {},
     "output_type": "execute_result"
    }
   ],
   "source": [
    "import util\n",
    "importlib.reload(util)\n",
    "\n",
    "tles_check = []\n",
    "with open('tles_sgp4.tle', 'r') as f:\n",
    "    while True:\n",
    "        line1 = f.readline()\n",
    "        if not line1 or line1.strip() == \"\":\n",
    "            break  # stop if first line is empty\n",
    "\n",
    "        line2 = f.readline()\n",
    "        if not line2 or line2.strip() == \"\":\n",
    "            break  # stop if second line is empty\n",
    "        \n",
    "        tles_check.append(util.TLE(line1.strip(), line2.strip()))\n",
    "\n",
    "sat_check = []\n",
    "for tle in tles_check:\n",
    "    sat_check.append(util.get_position_at_time(tle, obstime, location))\n",
    "\n",
    "sat_check"
   ]
  },
  {
   "cell_type": "code",
   "execution_count": 64,
   "id": "18c2702c-1fb7-4a25-a64b-a67749a37fae",
   "metadata": {},
   "outputs": [
    {
     "data": {
      "text/html": [
       "<div><style>\n",
       ".dataframe > thead > tr,\n",
       ".dataframe > tbody > tr {\n",
       "  text-align: right;\n",
       "  white-space: pre-wrap;\n",
       "}\n",
       "</style>\n",
       "<small>shape: (10, 3)</small><table border=\"1\" class=\"dataframe\"><thead><tr><th>name</th><th>alt</th><th>az</th></tr><tr><td>str</td><td>f64</td><td>f64</td></tr></thead><tbody><tr><td>&quot;NAVSTAR 47 (USA 150)&quot;</td><td>16.642376</td><td>91.633704</td></tr><tr><td>&quot;NAVSTAR 81 (USA 319)&quot;</td><td>8.048966</td><td>45.01476</td></tr><tr><td>&quot;NAVSTAR 43 (USA 132)&quot;</td><td>49.903986</td><td>140.065598</td></tr><tr><td>&quot;NAVSTAR 60 (USA 196)&quot;</td><td>76.956355</td><td>197.642354</td></tr><tr><td>&quot;NAVSTAR 61 (USA 199)&quot;</td><td>37.980936</td><td>309.60797</td></tr><tr><td>&quot;NAVSTAR 67 (USA 239)&quot;</td><td>36.857815</td><td>20.403034</td></tr><tr><td>&quot;NAVSTAR 78 (USA 293)&quot;</td><td>45.372665</td><td>219.380969</td></tr><tr><td>&quot;NAVSTAR 79 (USA 304)&quot;</td><td>22.556092</td><td>245.454394</td></tr><tr><td>&quot;NAVSTAR 69 (USA 248)&quot;</td><td>4.096493</td><td>141.102433</td></tr><tr><td>&quot;NAVSTAR 64 (USA 206)&quot;</td><td>44.369909</td><td>123.403165</td></tr></tbody></table></div>"
      ],
      "text/plain": [
       "shape: (10, 3)\n",
       "┌──────────────────────┬───────────┬────────────┐\n",
       "│ name                 ┆ alt       ┆ az         │\n",
       "│ ---                  ┆ ---       ┆ ---        │\n",
       "│ str                  ┆ f64       ┆ f64        │\n",
       "╞══════════════════════╪═══════════╪════════════╡\n",
       "│ NAVSTAR 47 (USA 150) ┆ 16.642376 ┆ 91.633704  │\n",
       "│ NAVSTAR 81 (USA 319) ┆ 8.048966  ┆ 45.01476   │\n",
       "│ NAVSTAR 43 (USA 132) ┆ 49.903986 ┆ 140.065598 │\n",
       "│ NAVSTAR 60 (USA 196) ┆ 76.956355 ┆ 197.642354 │\n",
       "│ NAVSTAR 61 (USA 199) ┆ 37.980936 ┆ 309.60797  │\n",
       "│ NAVSTAR 67 (USA 239) ┆ 36.857815 ┆ 20.403034  │\n",
       "│ NAVSTAR 78 (USA 293) ┆ 45.372665 ┆ 219.380969 │\n",
       "│ NAVSTAR 79 (USA 304) ┆ 22.556092 ┆ 245.454394 │\n",
       "│ NAVSTAR 69 (USA 248) ┆ 4.096493  ┆ 141.102433 │\n",
       "│ NAVSTAR 64 (USA 206) ┆ 44.369909 ┆ 123.403165 │\n",
       "└──────────────────────┴───────────┴────────────┘"
      ]
     },
     "execution_count": 64,
     "metadata": {},
     "output_type": "execute_result"
    }
   ],
   "source": [
    "df"
   ]
  },
  {
   "cell_type": "code",
   "execution_count": 38,
   "id": "3fd4f139-fb8b-42c7-ba96-187a0eea5d77",
   "metadata": {},
   "outputs": [
    {
     "name": "stdout",
     "output_type": "stream",
     "text": [
      "Loaded 54 satellites\n"
     ]
    }
   ],
   "source": [
    "from skyfield.api import load, EarthSatellite\n",
    "from skyfield.iokit import parse_tle_file\n",
    "import json\n",
    "ts = load.timescale()\n",
    "\n",
    "with load.open('gp2_2.tle') as f:\n",
    "    data = json.load(f)\n",
    "\n",
    "ts = load.timescale()\n",
    "sats = [EarthSatellite.from_omm(ts, fields) for fields in data]\n",
    "\n",
    "print('Loaded', len(data), 'satellites')"
   ]
  },
  {
   "cell_type": "code",
   "execution_count": 41,
   "id": "1b7c801d-d7b9-4feb-8473-db79421f857c",
   "metadata": {},
   "outputs": [
    {
     "name": "stdout",
     "output_type": "stream",
     "text": [
      "10\n"
     ]
    },
    {
     "data": {
      "text/html": [
       "<div><style>\n",
       ".dataframe > thead > tr,\n",
       ".dataframe > tbody > tr {\n",
       "  text-align: right;\n",
       "  white-space: pre-wrap;\n",
       "}\n",
       "</style>\n",
       "<small>shape: (10, 5)</small><table border=\"1\" class=\"dataframe\"><thead><tr><th>name</th><th>alt</th><th>az</th><th>theta</th><th>phi</th></tr><tr><td>str</td><td>f64</td><td>f64</td><td>f64</td><td>f64</td></tr></thead><tbody><tr><td>&quot;NAVSTAR 69 (USA 248)&quot;</td><td>4.096493</td><td>141.102433</td><td>85.903507</td><td>308.897567</td></tr><tr><td>&quot;NAVSTAR 81 (USA 319)&quot;</td><td>8.048966</td><td>45.01476</td><td>81.951034</td><td>44.98524</td></tr><tr><td>&quot;NAVSTAR 47 (USA 150)&quot;</td><td>16.642376</td><td>91.633704</td><td>73.357624</td><td>358.366296</td></tr><tr><td>&quot;NAVSTAR 79 (USA 304)&quot;</td><td>22.556092</td><td>245.454394</td><td>67.443908</td><td>204.545606</td></tr><tr><td>&quot;NAVSTAR 67 (USA 239)&quot;</td><td>36.857815</td><td>20.403034</td><td>53.142185</td><td>69.596966</td></tr><tr><td>&quot;NAVSTAR 61 (USA 199)&quot;</td><td>37.980936</td><td>309.60797</td><td>52.019064</td><td>140.39203</td></tr><tr><td>&quot;NAVSTAR 64 (USA 206)&quot;</td><td>44.369909</td><td>123.403165</td><td>45.630091</td><td>326.596835</td></tr><tr><td>&quot;NAVSTAR 78 (USA 293)&quot;</td><td>45.372665</td><td>219.380969</td><td>44.627335</td><td>230.619031</td></tr><tr><td>&quot;NAVSTAR 43 (USA 132)&quot;</td><td>49.903986</td><td>140.065598</td><td>40.096014</td><td>309.934402</td></tr><tr><td>&quot;NAVSTAR 60 (USA 196)&quot;</td><td>76.956355</td><td>197.642354</td><td>13.043645</td><td>252.357646</td></tr></tbody></table></div>"
      ],
      "text/plain": [
       "shape: (10, 5)\n",
       "┌──────────────────────┬───────────┬────────────┬───────────┬────────────┐\n",
       "│ name                 ┆ alt       ┆ az         ┆ theta     ┆ phi        │\n",
       "│ ---                  ┆ ---       ┆ ---        ┆ ---       ┆ ---        │\n",
       "│ str                  ┆ f64       ┆ f64        ┆ f64       ┆ f64        │\n",
       "╞══════════════════════╪═══════════╪════════════╪═══════════╪════════════╡\n",
       "│ NAVSTAR 69 (USA 248) ┆ 4.096493  ┆ 141.102433 ┆ 85.903507 ┆ 308.897567 │\n",
       "│ NAVSTAR 81 (USA 319) ┆ 8.048966  ┆ 45.01476   ┆ 81.951034 ┆ 44.98524   │\n",
       "│ NAVSTAR 47 (USA 150) ┆ 16.642376 ┆ 91.633704  ┆ 73.357624 ┆ 358.366296 │\n",
       "│ NAVSTAR 79 (USA 304) ┆ 22.556092 ┆ 245.454394 ┆ 67.443908 ┆ 204.545606 │\n",
       "│ NAVSTAR 67 (USA 239) ┆ 36.857815 ┆ 20.403034  ┆ 53.142185 ┆ 69.596966  │\n",
       "│ NAVSTAR 61 (USA 199) ┆ 37.980936 ┆ 309.60797  ┆ 52.019064 ┆ 140.39203  │\n",
       "│ NAVSTAR 64 (USA 206) ┆ 44.369909 ┆ 123.403165 ┆ 45.630091 ┆ 326.596835 │\n",
       "│ NAVSTAR 78 (USA 293) ┆ 45.372665 ┆ 219.380969 ┆ 44.627335 ┆ 230.619031 │\n",
       "│ NAVSTAR 43 (USA 132) ┆ 49.903986 ┆ 140.065598 ┆ 40.096014 ┆ 309.934402 │\n",
       "│ NAVSTAR 60 (USA 196) ┆ 76.956355 ┆ 197.642354 ┆ 13.043645 ┆ 252.357646 │\n",
       "└──────────────────────┴───────────┴────────────┴───────────┴────────────┘"
      ]
     },
     "execution_count": 41,
     "metadata": {},
     "output_type": "execute_result"
    }
   ],
   "source": [
    "from skyfield.api import wgs84, Topos\n",
    "\n",
    "meerkat = Topos(latitude_degrees=-30.71106,\n",
    "                longitude_degrees=21.44389,\n",
    "                elevation_m= 1086.6)\n",
    "\n",
    "obs_site = meerkat\n",
    "t_obs = ts.utc(2024, 2, 16, 11, 21, 22)\n",
    "sats_visible = []\n",
    "sats_processed = set()\n",
    "\n",
    "for satellite in sats:\n",
    "    # There are some duplicate TLEs - don't worry about this.\n",
    "    # any of them should give essentially the same result.\n",
    "    if satellite.name in sats_processed:\n",
    "        continue\n",
    "    event_dict = {}\n",
    "    event_dict['name'] = satellite.name\n",
    "\n",
    "    topocentric = (satellite - obs_site).at(t_obs)\n",
    "    alt, az, _ = topocentric.altaz()\n",
    "    event_dict['alt'] = alt.degrees\n",
    "    event_dict['az'] = az.degrees\n",
    "    if alt.degrees > 0:\n",
    "        sats_visible.append(event_dict)\n",
    "    sats_processed.add(satellite.name)\n",
    "\n",
    "df = pl.from_records(sats_visible)\n",
    "#df.write_excel('sats.xlsx')\n",
    "#len(sats_processed)\n",
    "print(len(sats_visible))\n",
    "df.with_columns(theta=pl.lit(90) - pl.col('alt'), phi=(pl.lit(90) - pl.col('az'))%360).sort(by=\"alt\", descending=False)\n"
   ]
  },
  {
   "cell_type": "code",
   "execution_count": 111,
   "id": "71475ad9-6d84-4ad2-bdeb-b3c7d72991bb",
   "metadata": {},
   "outputs": [
    {
     "data": {
      "text/html": [
       "<div><style>\n",
       ".dataframe > thead > tr,\n",
       ".dataframe > tbody > tr {\n",
       "  text-align: right;\n",
       "  white-space: pre-wrap;\n",
       "}\n",
       "</style>\n",
       "<small>shape: (10, 5)</small><table border=\"1\" class=\"dataframe\"><thead><tr><th>phi</th><th>theta</th><th>Q</th><th>dist_from_theta</th><th>dist_from_phi</th></tr><tr><td>f64</td><td>f64</td><td>f64</td><td>f64</td><td>f64</td></tr></thead><tbody><tr><td>171.59215</td><td>82.043341</td><td>0.0</td><td>7.956659</td><td>278.40785</td></tr><tr><td>147.12613</td><td>56.726454</td><td>-0.081025</td><td>33.273546</td><td>302.87387</td></tr><tr><td>171.59215</td><td>82.057676</td><td>-0.082729</td><td>7.942324</td><td>278.40785</td></tr><tr><td>110.959623</td><td>48.024671</td><td>-0.404396</td><td>41.975329</td><td>339.040377</td></tr><tr><td>171.59215</td><td>82.029005</td><td>-0.407285</td><td>7.970995</td><td>278.40785</td></tr><tr><td>22.395933</td><td>75.87898</td><td>-0.491394</td><td>14.12102</td><td>67.604067</td></tr><tr><td>22.395933</td><td>75.893316</td><td>-0.559598</td><td>14.106684</td><td>67.604067</td></tr><tr><td>359.834993</td><td>74.646108</td><td>-0.567958</td><td>15.353892</td><td>90.165007</td></tr><tr><td>60.932539</td><td>62.360393</td><td>-0.577288</td><td>27.639607</td><td>29.067461</td></tr><tr><td>253.870578</td><td>46.032005</td><td>-0.594861</td><td>43.967995</td><td>196.129422</td></tr></tbody></table></div>"
      ],
      "text/plain": [
       "shape: (10, 5)\n",
       "┌────────────┬───────────┬───────────┬─────────────────┬───────────────┐\n",
       "│ phi        ┆ theta     ┆ Q         ┆ dist_from_theta ┆ dist_from_phi │\n",
       "│ ---        ┆ ---       ┆ ---       ┆ ---             ┆ ---           │\n",
       "│ f64        ┆ f64       ┆ f64       ┆ f64             ┆ f64           │\n",
       "╞════════════╪═══════════╪═══════════╪═════════════════╪═══════════════╡\n",
       "│ 171.59215  ┆ 82.043341 ┆ 0.0       ┆ 7.956659        ┆ 278.40785     │\n",
       "│ 147.12613  ┆ 56.726454 ┆ -0.081025 ┆ 33.273546       ┆ 302.87387     │\n",
       "│ 171.59215  ┆ 82.057676 ┆ -0.082729 ┆ 7.942324        ┆ 278.40785     │\n",
       "│ 110.959623 ┆ 48.024671 ┆ -0.404396 ┆ 41.975329       ┆ 339.040377    │\n",
       "│ 171.59215  ┆ 82.029005 ┆ -0.407285 ┆ 7.970995        ┆ 278.40785     │\n",
       "│ 22.395933  ┆ 75.87898  ┆ -0.491394 ┆ 14.12102        ┆ 67.604067     │\n",
       "│ 22.395933  ┆ 75.893316 ┆ -0.559598 ┆ 14.106684       ┆ 67.604067     │\n",
       "│ 359.834993 ┆ 74.646108 ┆ -0.567958 ┆ 15.353892       ┆ 90.165007     │\n",
       "│ 60.932539  ┆ 62.360393 ┆ -0.577288 ┆ 27.639607       ┆ 29.067461     │\n",
       "│ 253.870578 ┆ 46.032005 ┆ -0.594861 ┆ 43.967995       ┆ 196.129422    │\n",
       "└────────────┴───────────┴───────────┴─────────────────┴───────────────┘"
      ]
     },
     "execution_count": 111,
     "metadata": {},
     "output_type": "execute_result"
    }
   ],
   "source": [
    "output.with_columns(dist_from_theta=90 - pl.col('theta'), dist_from_phi = (90-pl.col('phi')) % 360).sort(by=\"Q\", descending=True).head(10)"
   ]
  },
  {
   "cell_type": "code",
   "execution_count": 163,
   "id": "775ba7c8-75a8-44f3-bf42-c2a03731fffc",
   "metadata": {},
   "outputs": [
    {
     "name": "stdout",
     "output_type": "stream",
     "text": [
      "UTC Time: 2024-02-16 11:21:22.093\n",
      "Year: 2024\n",
      "Datetime: 2024-02-16 11:21:22.092702\n"
     ]
    }
   ],
   "source": [
    "from astropy.time import Time\n",
    "\n",
    "# Your MJD value (example)\n",
    "mjd = 60356.47317236924195\n",
    "\n",
    "# Create Time object\n",
    "t = Time(mjd, format='mjd', scale='utc')\n",
    "\n",
    "# Print UTC as ISO format\n",
    "print(\"UTC Time:\", t.utc.iso)\n",
    "\n",
    "# Or get components\n",
    "print(\"Year:\", t.utc.datetime.year)\n",
    "print(\"Datetime:\", t.utc.datetime)"
   ]
  },
  {
   "cell_type": "code",
   "execution_count": 164,
   "id": "fabe66d4-2f2e-494c-85f2-41f20651ed9a",
   "metadata": {},
   "outputs": [
    {
     "data": {
      "text/plain": [
       "9576625.173138944"
      ]
     },
     "execution_count": 164,
     "metadata": {},
     "output_type": "execute_result"
    }
   ],
   "source": [
    "## Near-field limit calculation\n",
    "1500**2 / (constants.c / 1.276e9)"
   ]
  },
  {
   "cell_type": "code",
   "execution_count": null,
   "id": "028f6b82-cf27-4f9e-baf0-a5eb0f5b26b5",
   "metadata": {},
   "outputs": [],
   "source": []
  }
 ],
 "metadata": {
  "kernelspec": {
   "display_name": "Python 3 (ipykernel)",
   "language": "python",
   "name": "python3"
  },
  "language_info": {
   "codemirror_mode": {
    "name": "ipython",
    "version": 3
   },
   "file_extension": ".py",
   "mimetype": "text/x-python",
   "name": "python",
   "nbconvert_exporter": "python",
   "pygments_lexer": "ipython3",
   "version": "3.10.12"
  }
 },
 "nbformat": 4,
 "nbformat_minor": 5
}
