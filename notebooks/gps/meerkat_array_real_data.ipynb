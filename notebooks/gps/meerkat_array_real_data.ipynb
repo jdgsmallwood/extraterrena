{
 "cells": [
  {
   "cell_type": "code",
   "execution_count": 26,
   "id": "ef9ef6b1-b233-4871-b86c-2417cc59ab7e",
   "metadata": {},
   "outputs": [],
   "source": [
    "import polars as pl\n",
    "from spatial_filtering import arrays, constants, direction_of_arrival\n",
    "import importlib\n",
    "\n",
    "importlib.reload(arrays)\n",
    "importlib.reload(constants)\n",
    "importlib.reload(direction_of_arrival)\n",
    "\n",
    "meerkat_pos = pl.read_excel('meerkat positions.xlsx')\n",
    "meerkat_pos = meerkat_pos.with_columns(distance_from_center_m=(pl.col('East')**2 + pl.col('North')**2 + pl.col('Up')**2).sqrt())\n",
    "meerkat_pos_core = meerkat_pos.filter(pl.col('distance_from_center_m') < 750)\n",
    "core_indices = [int(r[-2:]) for r in meerkat_pos_core['Antenna'].to_list()]\n",
    "data_np = meerkat_pos_core[['East', 'North', 'Up']].to_numpy()\n",
    "\n",
    "from spatial_filtering.arrays import Array\n",
    "import numpy as np\n",
    "\n",
    "array = arrays.Array(data_np)\n",
    "N = array.num_antennas\n",
    "f = 1.2276e9              # Frequency 1.2276 GHz GPS L2 band.\n",
    "wavelength = constants.c / f\n",
    "snapshots = 2000\n"
   ]
  },
  {
   "cell_type": "code",
   "execution_count": 3,
   "id": "3c02d5ed-11f6-4d3b-a5fc-65ff24138d87",
   "metadata": {},
   "outputs": [
    {
     "name": "stdout",
     "output_type": "stream",
     "text": [
      "{'HEADER': 'DADA', 'HDR_VERSION': '1.0', 'HDR_SIZE': 4096, 'DADA_VERSION': '1.0', 'OBS_ID': 'None', 'FILE_SIZE': '3048214528', 'FILE_NUMBER': '0', 'UTC_START': '1708082482.092702505', 'MJD_START': '60356.47317236924195', 'OBS_OFFSET': '0', 'OBS_OVERLAP': '0', 'SOURCE': 'J1644-4559_Offset1', 'RA': '16:44:26.25', 'DEC': '-45:59:09.6', 'TELESCOPE': 'MeerKAT', 'INSTRUMENT': 'CBF-Feng', 'RECEIVER': 'L-band', 'FREQ': '1284000000.000000', 'BW': '856000000.000000', 'TSAMP': '4.7850467290', 'BYTES_PER_SECOND': '3424000000.000000', 'NBIT': 8, 'NDIM': 2, 'NPOL': 2, 'NCHAN': 64, 'NANT': 57, 'ORDER': 'TAFTP', 'INNER_T': 256, 'SYNC_TIME': '1708039531.000000', 'SAMPLE_CLOCK': '1712000000.000000', 'SAMPLE_CLOCK_START': '73532270706688', 'CHAN0_IDX': 1728, 'Lowest_freq (MHz)': 1217.125}\n"
     ]
    }
   ],
   "source": [
    "from dadanalyse import read_dada\n",
    "GPS_CHANNEL = 50\n",
    "POL = 1 \n",
    "# J1644-4559_2024-02-16T11:21:22.092_29_73532270706688.dada\n",
    "dada = read_dada(\"../../../data/gps.dada\")\n",
    "print(dada.get_header())\n",
    "dada = dada.combined_data()\n",
    "\n"
   ]
  },
  {
   "cell_type": "code",
   "execution_count": 81,
   "id": "79acee3d-8793-4e04-834e-581fe729055f",
   "metadata": {},
   "outputs": [
    {
     "data": {
      "text/plain": [
       "array([ 0.28936544-0.9572187j , -0.38367628+0.92346765j,\n",
       "       -0.8083881 -0.58864988j,  0.89296643+0.45012327j,\n",
       "        0.63408678+0.77326189j, -0.54450583-0.83875706j,\n",
       "       -0.71451342+0.69962174j,  0.99988422-0.01521692j,\n",
       "        0.12862974+0.99169269j, -0.99080042+0.13533121j,\n",
       "        0.3375557 +0.94130556j, -0.91359294+0.40662998j,\n",
       "        0.22982853+0.97323114j, -0.9492535 +0.31451198j,\n",
       "        0.37860534-0.92555821j,  0.70924556+0.70496152j,\n",
       "        0.77494962-0.63202301j, -0.48599853+0.87395963j,\n",
       "        0.99237859-0.12322637j,  0.06867479-0.9976391j ,\n",
       "       -0.94016331-0.34072417j,  0.07684229-0.99704326j,\n",
       "        0.67667242-0.73628421j,  0.94554284+0.32549769j,\n",
       "        0.53298596+0.84612409j,  0.01641594+0.99986525j,\n",
       "        0.77013833+0.63787691j, -0.99937132+0.0354537j ,\n",
       "       -0.11375228-0.99350914j, -0.98203582+0.1886946j ,\n",
       "        0.32209399+0.94670769j, -0.86295217+0.50528561j,\n",
       "        0.50018058-0.86592112j, -0.07006181+0.99754265j,\n",
       "        0.65739175-0.753549j  , -0.14607839-0.98927302j,\n",
       "        0.54799961+0.83647859j,  0.86667295+0.49887674j,\n",
       "        0.9383332 +0.34573227j, -0.95880232-0.28407413j,\n",
       "       -0.06597668+0.99782117j,  0.27171002+0.96237917j,\n",
       "       -0.94045429+0.33992018j])"
      ]
     },
     "execution_count": 81,
     "metadata": {},
     "output_type": "execute_result"
    }
   ],
   "source": [
    "array.steering_vector([0,0], wavelength)"
   ]
  },
  {
   "cell_type": "code",
   "execution_count": 4,
   "id": "8e33365b-0d94-43f4-9c01-2d0372434b99",
   "metadata": {},
   "outputs": [
    {
     "data": {
      "text/plain": [
       "(208896, 57, 64, 2)"
      ]
     },
     "execution_count": 4,
     "metadata": {},
     "output_type": "execute_result"
    }
   ],
   "source": [
    "dada.shape"
   ]
  },
  {
   "cell_type": "code",
   "execution_count": 5,
   "id": "5bb9ee2d-e0a1-48a4-a4e8-0e18dd8fc657",
   "metadata": {},
   "outputs": [],
   "source": [
    "dada = dada[0:2000, core_indices, GPS_CHANNEL, POL].T\n",
    "X = dada"
   ]
  },
  {
   "cell_type": "code",
   "execution_count": 6,
   "id": "b4f32feb-1a6b-4a61-b720-8d0d41806570",
   "metadata": {},
   "outputs": [
    {
     "name": "stderr",
     "output_type": "stream",
     "text": [
      "/var/folders/vv/d9ncb4ms2x1gl0mmkrvk8m7c0000gp/T/ipykernel_9853/1887256366.py:12: DeprecationWarning: datetime.datetime.utcfromtimestamp() is deprecated and scheduled for removal in a future version. Use timezone-aware objects to represent datetimes in UTC: datetime.datetime.fromtimestamp(timestamp, datetime.UTC).\n",
      "  dt = datetime.utcfromtimestamp(timestamp)\n"
     ]
    },
    {
     "data": {
      "text/plain": [
       "datetime.datetime(2024, 2, 16, 11, 21, 22, 92702)"
      ]
     },
     "execution_count": 6,
     "metadata": {},
     "output_type": "execute_result"
    }
   ],
   "source": [
    "from skyfield.api import load, Topos, EarthSatellite\n",
    "from datetime import datetime\n",
    "import numpy as np\n",
    "\n",
    "# Location: MeerKAT Telescope (converted to decimal degrees)\n",
    "lat = -30.71106\n",
    "lon = 21.44389\n",
    "elevation_m = 1086.6\n",
    "\n",
    "# Time: Convert UNIX timestamp to UTC\n",
    "timestamp = 1708082482.092702505\n",
    "dt = datetime.utcfromtimestamp(timestamp)\n",
    "dt"
   ]
  },
  {
   "cell_type": "code",
   "execution_count": 156,
   "id": "4e649237-1835-4a5d-adf0-bd278975838c",
   "metadata": {},
   "outputs": [],
   "source": [
    "array_factor = array.steering_vector([220.67, 65.97], wavelength)\n",
    "#X = X.T\n",
    "X_adj = X.copy()\n",
    "for i, shift in enumerate(array_factor):\n",
    "    X_adj[i, :] = X_adj[i, :] * array_factor[i].conj()\n",
    "\n",
    "R = X.conj().T @ X / N\n",
    "R_adj = X_adj.conj().T @ X_adj / N"
   ]
  },
  {
   "cell_type": "code",
   "execution_count": 145,
   "id": "ab16bdd1-077a-4aa9-8553-91a9bf9d3f8c",
   "metadata": {},
   "outputs": [
    {
     "data": {
      "text/plain": [
       "array([[43939.        +0.j     , -1425.6279 +5452.279j  ,\n",
       "         3486.9534 -3225.442j  , ...,  2013.7675 -5584.279j  ,\n",
       "        -1126.8837 +4012.721j  ,  3578.5813  +365.7907j ],\n",
       "       [-1425.6279 -5452.279j  , 41073.07      +0.j     ,\n",
       "        -3321.558  -1750.2325j , ..., -2459.535   +897.32556j,\n",
       "         4608.186  -3454.j     , -1240.0697 -4017.535j  ],\n",
       "       [ 3486.9534 +3225.442j  , -3321.558  +1750.2325j ,\n",
       "        45996.188     +0.j     , ...,  7377.93   +2624.1628j ,\n",
       "        -3862.3489 +2576.093j  , -1446.4884 +4791.93j   ],\n",
       "       ...,\n",
       "       [ 2013.7675 +5584.279j  , -2459.535   -897.32556j,\n",
       "         7377.93   -2624.1628j , ..., 46125.605     +0.j     ,\n",
       "        -5846.442   +347.4186j ,  -841.48834+6785.7207j ],\n",
       "       [-1126.8837 -4012.721j  ,  4608.186  +3454.j     ,\n",
       "        -3862.3489 -2576.093j  , ..., -5846.442   -347.4186j ,\n",
       "        43681.348     +0.j     ,  1308.0465 -5801.1396j ],\n",
       "       [ 3578.5813  -365.7907j , -1240.0697 +4017.535j  ,\n",
       "        -1446.4884 -4791.93j   , ...,  -841.48834-6785.7207j ,\n",
       "         1308.0465 +5801.1396j , 40742.023     +0.j     ]],\n",
       "      shape=(43, 43), dtype=complex64)"
      ]
     },
     "execution_count": 145,
     "metadata": {},
     "output_type": "execute_result"
    }
   ],
   "source": [
    "import numpy as np\n",
    "\n",
    "evals, evecs = np.linalg.eigh(R)\n",
    "R"
   ]
  },
  {
   "cell_type": "code",
   "execution_count": 146,
   "id": "7f82623f-9e25-4c53-a3c0-98d3e8bcf8c6",
   "metadata": {},
   "outputs": [
    {
     "data": {
      "text/plain": [
       "array([[ 904.3023  +1.62473207e-05j,   21.397081-1.05773758e+02j,\n",
       "         -79.75975 -5.05234413e+01j, ..., -253.46132 -1.31544952e+01j,\n",
       "          83.55547 +2.07944443e+02j,   24.074514-2.81047668e+02j],\n",
       "       [  21.397081+1.05773766e+02j,  906.1395  +1.84472094e-06j,\n",
       "         -21.01408 +1.37634125e+02j, ...,   70.927315-1.72255341e+02j,\n",
       "        -386.4405  +2.42494186e+02j,  -29.720984-3.21199341e+02j],\n",
       "       [ -79.75975 +5.05234528e+01j,  -21.01408 -1.37634125e+02j,\n",
       "         925.1628  -4.43094723e-06j, ...,   44.526066-1.90868408e+02j,\n",
       "          48.791862+4.38486542e+02j, -215.87999 +1.53416473e+02j],\n",
       "       ...,\n",
       "       [-253.46132 +1.31544838e+01j,   70.927315+1.72255341e+02j,\n",
       "          44.526066+1.90868408e+02j, ...,  818.76746 +0.00000000e+00j,\n",
       "        -290.27908 -3.06069763e+02j,   94.46512 +1.34186050e+02j],\n",
       "       [  83.55547 -2.07944427e+02j, -386.4405  -2.42494110e+02j,\n",
       "          48.791862-4.38486694e+02j, ..., -290.27908 +3.06069763e+02j,\n",
       "        1254.8605  +0.00000000e+00j,   10.72093 +1.81209305e+02j],\n",
       "       [  24.074514+2.81047668e+02j,  -29.720984+3.21199310e+02j,\n",
       "        -215.87999 -1.53416473e+02j, ...,   94.46512 -1.34186050e+02j,\n",
       "          10.72093 -1.81209305e+02j, 1188.      +0.00000000e+00j]],\n",
       "      shape=(2000, 2000), dtype=complex64)"
      ]
     },
     "execution_count": 146,
     "metadata": {},
     "output_type": "execute_result"
    }
   ],
   "source": [
    "R_adj"
   ]
  },
  {
   "cell_type": "code",
   "execution_count": 125,
   "id": "bbd9d762-12a6-43ba-a708-4eca77e428a2",
   "metadata": {},
   "outputs": [
    {
     "name": "stderr",
     "output_type": "stream",
     "text": [
      "2025-06-03 17:35:09.741 Python[9853:18965885] _TIPropertyValueIsValid called with 16 on nil context!\n",
      "2025-06-03 17:35:09.741 Python[9853:18965885] imkxpc_getApplicationProperty:reply: called with incorrect property value 16, bailing.\n",
      "2025-06-03 17:35:09.741 Python[9853:18965885] Text input context does not respond to _valueForTIProperty:\n",
      "2025-06-03 17:35:11.885 Python[9853:18965885] _TIPropertyValueIsValid called with 16 on nil context!\n",
      "2025-06-03 17:35:11.885 Python[9853:18965885] imkxpc_getApplicationProperty:reply: called with incorrect property value 16, bailing.\n",
      "2025-06-03 17:35:11.885 Python[9853:18965885] Text input context does not respond to _valueForTIProperty:\n"
     ]
    }
   ],
   "source": [
    "import matplotlib.pyplot as plt\n",
    "\n",
    "plt.plot(evals)\n",
    "plt.show()"
   ]
  },
  {
   "cell_type": "code",
   "execution_count": 57,
   "id": "3d60c4cc-091c-4b61-854f-ea550d7b4062",
   "metadata": {},
   "outputs": [
    {
     "data": {
      "text/plain": [
       "array([ 36450.5  ,  37099.656,  37439.64 ,  37747.164,  38575.91 ,\n",
       "        39540.45 ,  40307.95 ,  41162.973,  42905.89 ,  44738.445,\n",
       "        48184.36 ,  56458.53 , 106063.61 , 139550.8  , 296141.47 ],\n",
       "      dtype=float32)"
      ]
     },
     "execution_count": 57,
     "metadata": {},
     "output_type": "execute_result"
    }
   ],
   "source": [
    "evals[-15:]"
   ]
  },
  {
   "cell_type": "code",
   "execution_count": 157,
   "id": "5677aef5-f22b-41d4-be72-1107d883a79e",
   "metadata": {},
   "outputs": [],
   "source": [
    "\n",
    "\n",
    "theta_steps = 1_000\n",
    "phi_steps = 1_000\n",
    "\n",
    "output = direction_of_arrival.MUSICDOA2D().get_directions(\n",
    "    array,\n",
    "    R_adj, \n",
    "    num_interferers=5,\n",
    "    wavelength = wavelength,\n",
    "    theta_min_deg = 0,\n",
    "    theta_max_deg = 90,\n",
    "    theta_steps=theta_steps,\n",
    "    phi_min_deg = -180,\n",
    "    phi_max_deg = 180,\n",
    "    phi_steps=phi_steps,\n",
    ")"
   ]
  },
  {
   "cell_type": "code",
   "execution_count": 158,
   "id": "5b977f91-7bba-4f37-84fb-d8d1da812f2e",
   "metadata": {},
   "outputs": [
    {
     "data": {
      "text/html": [
       "<iframe\n",
       "    scrolling=\"no\"\n",
       "    width=\"100%\"\n",
       "    height=\"545px\"\n",
       "    src=\"iframe_figures/figure_158.html\"\n",
       "    frameborder=\"0\"\n",
       "    allowfullscreen\n",
       "></iframe>\n"
      ]
     },
     "metadata": {},
     "output_type": "display_data"
    }
   ],
   "source": [
    "\n",
    "import plotly.express as px\n",
    "\n",
    "import plotly.io as pio\n",
    "pio.renderers.default = 'iframe'  \n",
    "\n",
    "# Filter top 1% Q values (adjust as needed)\n",
    "threshold = output['Q'].quantile(0.999975)\n",
    "high_Q = output.filter(pl.col('Q') >= threshold)\n",
    "\n",
    "# Create 3D scatter plot\n",
    "fig = px.scatter_3d(\n",
    "    high_Q,\n",
    "    x='theta',  # azimuth\n",
    "    y='phi',      # range\n",
    "    z='Q',      # MUSIC power\n",
    "    color='Q',\n",
    "    color_continuous_scale='Jet',\n",
    "    opacity=0.8\n",
    ")\n",
    "\n",
    "# Update layout for better visuals\n",
    "fig.update_layout(\n",
    "    title='High-Q MUSIC Spectrum Peaks',\n",
    "    scene=dict(\n",
    "        xaxis_title='Angle (degrees)',\n",
    "        yaxis_title='Phi (degrees)',\n",
    "        zaxis_title='Q (dB)'\n",
    "    )\n",
    ")\n",
    "\n",
    "fig.show()"
   ]
  },
  {
   "cell_type": "markdown",
   "id": "1f03546b-debd-4ff4-9a06-d4a71d9cda06",
   "metadata": {},
   "source": [
    "The MJD I want is 60356.47317236924195\n",
    "\n",
    "\n"
   ]
  },
  {
   "cell_type": "code",
   "execution_count": 159,
   "id": "3fd4f139-fb8b-42c7-ba96-187a0eea5d77",
   "metadata": {},
   "outputs": [
    {
     "name": "stdout",
     "output_type": "stream",
     "text": [
      "Loaded 54 satellites\n"
     ]
    }
   ],
   "source": [
    "from skyfield.api import load, EarthSatellite\n",
    "from skyfield.iokit import parse_tle_file\n",
    "import json\n",
    "ts = load.timescale()\n",
    "\n",
    "with load.open('gp2_2.tle') as f:\n",
    "    data = json.load(f)\n",
    "\n",
    "ts = load.timescale()\n",
    "sats = [EarthSatellite.from_omm(ts, fields) for fields in data]\n",
    "\n",
    "print('Loaded', len(data), 'satellites')"
   ]
  },
  {
   "cell_type": "code",
   "execution_count": 160,
   "id": "38f45a71-5241-4f47-9d4a-d88fd1de11db",
   "metadata": {},
   "outputs": [
    {
     "name": "stdout",
     "output_type": "stream",
     "text": [
      "Source RA/DEC\n",
      "Altitude: 24.03 deg\n",
      "Azimuth: 229.33 deg\n"
     ]
    }
   ],
   "source": [
    "from astropy.coordinates import SkyCoord, EarthLocation, AltAz\n",
    "from astropy.time import Time\n",
    "import astropy.units as u\n",
    "\n",
    "# Observer location (MeerKAT)\n",
    "location = EarthLocation(lat=-30.71106*u.deg,\n",
    "                         lon=21.44389*u.deg,\n",
    "                         height=1086.6*u.m)\n",
    "\n",
    "# Time of observation (UTC)\n",
    "obstime = Time('2024-02-16 11:21:22')\n",
    "\n",
    "# RA/DEC coordinates\n",
    "ra_str = '16:44:26.25'\n",
    "dec_str = '-45:59:09.6'\n",
    "\n",
    "# Create SkyCoord object in ICRS (equatorial)\n",
    "sky_coord = SkyCoord(ra=ra_str, dec=dec_str, unit=(u.hourangle, u.deg), frame='icrs')\n",
    "\n",
    "# Create AltAz frame at observer location and time\n",
    "altaz_frame = AltAz(obstime=obstime, location=location)\n",
    "\n",
    "# Transform RA/DEC to AltAz\n",
    "altaz = sky_coord.transform_to(altaz_frame)\n",
    "\n",
    "# Output altitude and azimuth\n",
    "print(\"Source RA/DEC\")\n",
    "print(f\"Altitude: {altaz.alt:.2f}\")\n",
    "print(f\"Azimuth: {altaz.az:.2f}\")"
   ]
  },
  {
   "cell_type": "code",
   "execution_count": 161,
   "id": "1b7c801d-d7b9-4feb-8473-db79421f857c",
   "metadata": {},
   "outputs": [
    {
     "name": "stdout",
     "output_type": "stream",
     "text": [
      "10\n"
     ]
    },
    {
     "data": {
      "text/html": [
       "<div><style>\n",
       ".dataframe > thead > tr,\n",
       ".dataframe > tbody > tr {\n",
       "  text-align: right;\n",
       "  white-space: pre-wrap;\n",
       "}\n",
       "</style>\n",
       "<small>shape: (10, 5)</small><table border=\"1\" class=\"dataframe\"><thead><tr><th>name</th><th>alt</th><th>az</th><th>theta</th><th>phi</th></tr><tr><td>str</td><td>f64</td><td>f64</td><td>f64</td><td>f64</td></tr></thead><tbody><tr><td>&quot;NAVSTAR 69 (USA 248)&quot;</td><td>4.096493</td><td>141.102433</td><td>85.903507</td><td>-51.102433</td></tr><tr><td>&quot;NAVSTAR 81 (USA 319)&quot;</td><td>8.048966</td><td>45.01476</td><td>81.951034</td><td>44.98524</td></tr><tr><td>&quot;NAVSTAR 47 (USA 150)&quot;</td><td>16.642376</td><td>91.633704</td><td>73.357624</td><td>-1.633704</td></tr><tr><td>&quot;NAVSTAR 79 (USA 304)&quot;</td><td>22.556092</td><td>245.454394</td><td>67.443908</td><td>-155.454394</td></tr><tr><td>&quot;NAVSTAR 67 (USA 239)&quot;</td><td>36.857815</td><td>20.403034</td><td>53.142185</td><td>69.596966</td></tr><tr><td>&quot;NAVSTAR 61 (USA 199)&quot;</td><td>37.980936</td><td>309.60797</td><td>52.019064</td><td>-219.60797</td></tr><tr><td>&quot;NAVSTAR 64 (USA 206)&quot;</td><td>44.369909</td><td>123.403165</td><td>45.630091</td><td>-33.403165</td></tr><tr><td>&quot;NAVSTAR 78 (USA 293)&quot;</td><td>45.372665</td><td>219.380969</td><td>44.627335</td><td>-129.380969</td></tr><tr><td>&quot;NAVSTAR 43 (USA 132)&quot;</td><td>49.903986</td><td>140.065598</td><td>40.096014</td><td>-50.065598</td></tr><tr><td>&quot;NAVSTAR 60 (USA 196)&quot;</td><td>76.956355</td><td>197.642354</td><td>13.043645</td><td>-107.642354</td></tr></tbody></table></div>"
      ],
      "text/plain": [
       "shape: (10, 5)\n",
       "┌──────────────────────┬───────────┬────────────┬───────────┬─────────────┐\n",
       "│ name                 ┆ alt       ┆ az         ┆ theta     ┆ phi         │\n",
       "│ ---                  ┆ ---       ┆ ---        ┆ ---       ┆ ---         │\n",
       "│ str                  ┆ f64       ┆ f64        ┆ f64       ┆ f64         │\n",
       "╞══════════════════════╪═══════════╪════════════╪═══════════╪═════════════╡\n",
       "│ NAVSTAR 69 (USA 248) ┆ 4.096493  ┆ 141.102433 ┆ 85.903507 ┆ -51.102433  │\n",
       "│ NAVSTAR 81 (USA 319) ┆ 8.048966  ┆ 45.01476   ┆ 81.951034 ┆ 44.98524    │\n",
       "│ NAVSTAR 47 (USA 150) ┆ 16.642376 ┆ 91.633704  ┆ 73.357624 ┆ -1.633704   │\n",
       "│ NAVSTAR 79 (USA 304) ┆ 22.556092 ┆ 245.454394 ┆ 67.443908 ┆ -155.454394 │\n",
       "│ NAVSTAR 67 (USA 239) ┆ 36.857815 ┆ 20.403034  ┆ 53.142185 ┆ 69.596966   │\n",
       "│ NAVSTAR 61 (USA 199) ┆ 37.980936 ┆ 309.60797  ┆ 52.019064 ┆ -219.60797  │\n",
       "│ NAVSTAR 64 (USA 206) ┆ 44.369909 ┆ 123.403165 ┆ 45.630091 ┆ -33.403165  │\n",
       "│ NAVSTAR 78 (USA 293) ┆ 45.372665 ┆ 219.380969 ┆ 44.627335 ┆ -129.380969 │\n",
       "│ NAVSTAR 43 (USA 132) ┆ 49.903986 ┆ 140.065598 ┆ 40.096014 ┆ -50.065598  │\n",
       "│ NAVSTAR 60 (USA 196) ┆ 76.956355 ┆ 197.642354 ┆ 13.043645 ┆ -107.642354 │\n",
       "└──────────────────────┴───────────┴────────────┴───────────┴─────────────┘"
      ]
     },
     "execution_count": 161,
     "metadata": {},
     "output_type": "execute_result"
    }
   ],
   "source": [
    "from skyfield.api import wgs84, Topos\n",
    "\n",
    "meerkat = Topos(latitude_degrees=-30.71106,\n",
    "                longitude_degrees=21.44389,\n",
    "                elevation_m= 1086.6)\n",
    "\n",
    "obs_site = meerkat\n",
    "t_obs = ts.utc(2024, 2, 16, 11, 21, 22)\n",
    "sats_visible = []\n",
    "sats_processed = set()\n",
    "\n",
    "for satellite in sats:\n",
    "    # There are some duplicate TLEs - don't worry about this.\n",
    "    # any of them should give essentially the same result.\n",
    "    if satellite.name in sats_processed:\n",
    "        continue\n",
    "    event_dict = {}\n",
    "    event_dict['name'] = satellite.name\n",
    "\n",
    "    topocentric = (satellite - obs_site).at(t_obs)\n",
    "    alt, az, _ = topocentric.altaz()\n",
    "    event_dict['alt'] = alt.degrees\n",
    "    event_dict['az'] = az.degrees\n",
    "    if alt.degrees > 0:\n",
    "        sats_visible.append(event_dict)\n",
    "    sats_processed.add(satellite.name)\n",
    "\n",
    "df = pl.from_records(sats_visible)\n",
    "#df.write_excel('sats.xlsx')\n",
    "#len(sats_processed)\n",
    "print(len(sats_visible))\n",
    "df.with_columns(theta=pl.lit(90) - pl.col('alt'), phi=(pl.lit(90) - pl.col('az'))).sort(by=\"alt\", descending=False)\n"
   ]
  },
  {
   "cell_type": "code",
   "execution_count": 162,
   "id": "71475ad9-6d84-4ad2-bdeb-b3c7d72991bb",
   "metadata": {},
   "outputs": [
    {
     "data": {
      "text/html": [
       "<div><style>\n",
       ".dataframe > thead > tr,\n",
       ".dataframe > tbody > tr {\n",
       "  text-align: right;\n",
       "  white-space: pre-wrap;\n",
       "}\n",
       "</style>\n",
       "<small>shape: (10, 5)</small><table border=\"1\" class=\"dataframe\"><thead><tr><th>phi</th><th>theta</th><th>Q</th><th>dist_from_theta</th><th>dist_from_phi</th></tr><tr><td>f64</td><td>f64</td><td>f64</td><td>f64</td><td>f64</td></tr></thead><tbody><tr><td>88.468468</td><td>56.756757</td><td>0.0</td><td>33.243243</td><td>1.531532</td></tr><tr><td>-163.423423</td><td>5.225225</td><td>-0.339769</td><td>84.774775</td><td>253.423423</td></tr><tr><td>35.135135</td><td>89.279279</td><td>-0.610294</td><td>0.720721</td><td>54.864865</td></tr><tr><td>98.558559</td><td>5.945946</td><td>-0.620601</td><td>84.054054</td><td>351.441441</td></tr><tr><td>35.135135</td><td>89.189189</td><td>-0.630185</td><td>0.810811</td><td>54.864865</td></tr><tr><td>-123.063063</td><td>38.198198</td><td>-0.645726</td><td>51.801802</td><td>213.063063</td></tr><tr><td>35.135135</td><td>89.369369</td><td>-0.652113</td><td>0.630631</td><td>54.864865</td></tr><tr><td>-110.810811</td><td>49.369369</td><td>-0.65797</td><td>40.630631</td><td>200.810811</td></tr><tr><td>-142.882883</td><td>36.036036</td><td>-0.674254</td><td>53.963964</td><td>232.882883</td></tr><tr><td>-145.765766</td><td>6.396396</td><td>-0.689999</td><td>83.603604</td><td>235.765766</td></tr></tbody></table></div>"
      ],
      "text/plain": [
       "shape: (10, 5)\n",
       "┌─────────────┬───────────┬───────────┬─────────────────┬───────────────┐\n",
       "│ phi         ┆ theta     ┆ Q         ┆ dist_from_theta ┆ dist_from_phi │\n",
       "│ ---         ┆ ---       ┆ ---       ┆ ---             ┆ ---           │\n",
       "│ f64         ┆ f64       ┆ f64       ┆ f64             ┆ f64           │\n",
       "╞═════════════╪═══════════╪═══════════╪═════════════════╪═══════════════╡\n",
       "│ 88.468468   ┆ 56.756757 ┆ 0.0       ┆ 33.243243       ┆ 1.531532      │\n",
       "│ -163.423423 ┆ 5.225225  ┆ -0.339769 ┆ 84.774775       ┆ 253.423423    │\n",
       "│ 35.135135   ┆ 89.279279 ┆ -0.610294 ┆ 0.720721        ┆ 54.864865     │\n",
       "│ 98.558559   ┆ 5.945946  ┆ -0.620601 ┆ 84.054054       ┆ 351.441441    │\n",
       "│ 35.135135   ┆ 89.189189 ┆ -0.630185 ┆ 0.810811        ┆ 54.864865     │\n",
       "│ -123.063063 ┆ 38.198198 ┆ -0.645726 ┆ 51.801802       ┆ 213.063063    │\n",
       "│ 35.135135   ┆ 89.369369 ┆ -0.652113 ┆ 0.630631        ┆ 54.864865     │\n",
       "│ -110.810811 ┆ 49.369369 ┆ -0.65797  ┆ 40.630631       ┆ 200.810811    │\n",
       "│ -142.882883 ┆ 36.036036 ┆ -0.674254 ┆ 53.963964       ┆ 232.882883    │\n",
       "│ -145.765766 ┆ 6.396396  ┆ -0.689999 ┆ 83.603604       ┆ 235.765766    │\n",
       "└─────────────┴───────────┴───────────┴─────────────────┴───────────────┘"
      ]
     },
     "execution_count": 162,
     "metadata": {},
     "output_type": "execute_result"
    }
   ],
   "source": [
    "output.with_columns(dist_from_theta=90 - pl.col('theta'), dist_from_phi = (90-pl.col('phi')) % 360).sort(by=\"Q\", descending=True).head(10)"
   ]
  },
  {
   "cell_type": "code",
   "execution_count": 163,
   "id": "775ba7c8-75a8-44f3-bf42-c2a03731fffc",
   "metadata": {},
   "outputs": [
    {
     "name": "stdout",
     "output_type": "stream",
     "text": [
      "UTC Time: 2024-02-16 11:21:22.093\n",
      "Year: 2024\n",
      "Datetime: 2024-02-16 11:21:22.092702\n"
     ]
    }
   ],
   "source": [
    "from astropy.time import Time\n",
    "\n",
    "# Your MJD value (example)\n",
    "mjd = 60356.47317236924195\n",
    "\n",
    "# Create Time object\n",
    "t = Time(mjd, format='mjd', scale='utc')\n",
    "\n",
    "# Print UTC as ISO format\n",
    "print(\"UTC Time:\", t.utc.iso)\n",
    "\n",
    "# Or get components\n",
    "print(\"Year:\", t.utc.datetime.year)\n",
    "print(\"Datetime:\", t.utc.datetime)"
   ]
  },
  {
   "cell_type": "code",
   "execution_count": 164,
   "id": "fabe66d4-2f2e-494c-85f2-41f20651ed9a",
   "metadata": {},
   "outputs": [
    {
     "data": {
      "text/plain": [
       "9576625.173138944"
      ]
     },
     "execution_count": 164,
     "metadata": {},
     "output_type": "execute_result"
    }
   ],
   "source": [
    "## Near-field limit calculation\n",
    "1500**2 / (constants.c / 1.276e9)"
   ]
  },
  {
   "cell_type": "code",
   "execution_count": 165,
   "id": "7bca63c1-a937-4a8d-a512-fc44c424b2e6",
   "metadata": {},
   "outputs": [
    {
     "name": "stderr",
     "output_type": "stream",
     "text": [
      "/var/folders/vv/d9ncb4ms2x1gl0mmkrvk8m7c0000gp/T/ipykernel_9853/270478294.py:54: MapWithoutReturnDtypeWarning:\n",
      "\n",
      "Calling `map_elements` without specifying `return_dtype` can lead to unpredictable results. Specify `return_dtype` to silence this warning.\n",
      "\n"
     ]
    }
   ],
   "source": [
    "phi_deg = -118.7\n",
    "theta_deg = 109.01\n",
    "\n",
    "boresight_az = 229.33\n",
    "boresight_alt = 24.04\n",
    "\n",
    "def spherical_to_cartesian(phi_deg, theta_deg):\n",
    "    phi = np.radians(phi_deg)\n",
    "    theta = np.radians(theta_deg)\n",
    "    x = np.sin(theta) * np.cos(phi)\n",
    "    y = np.sin(theta) * np.sin(phi)\n",
    "    z = np.cos(theta)\n",
    "    return np.array([x, y, z])  # In array's frame\n",
    "\n",
    "def az_alt_to_enu(az_deg, alt_deg):\n",
    "    az = np.radians(az_deg)\n",
    "    alt = np.radians(alt_deg)\n",
    "    e = np.cos(alt) * np.sin(az)\n",
    "    n = np.cos(alt) * np.cos(az)\n",
    "    u = np.sin(alt)\n",
    "    return np.array([e, n, u])\n",
    "\n",
    "def get_rotation_matrix_from_boresight(az_deg, alt_deg):\n",
    "    # z-axis: boresight direction\n",
    "    z_enu = az_alt_to_enu(az_deg, alt_deg)\n",
    "    z_enu = z_enu / np.linalg.norm(z_enu)\n",
    "\n",
    "    # Temporary up vector (in ENU): global \"Up\" is [0, 0, 1]\n",
    "    up = np.array([0, 0, 1])\n",
    "\n",
    "    # x-axis: perpendicular to z and up (or use [1, 0, 0] if z == up)\n",
    "    x_enu = np.cross(up, z_enu)\n",
    "    if np.linalg.norm(x_enu) < 1e-6:  # if pointing straight up\n",
    "        x_enu = np.array([1, 0, 0])\n",
    "    x_enu = x_enu / np.linalg.norm(x_enu)\n",
    "\n",
    "    # y-axis: completes right-handed system\n",
    "    y_enu = np.cross(z_enu, x_enu)\n",
    "\n",
    "    # Construct rotation matrix: columns are [x, y, z]\n",
    "    R = np.column_stack((x_enu, y_enu, z_enu))\n",
    "    return R\n",
    "\n",
    "# MUSIC direction (phi, theta) in array frame\n",
    "vec_music = spherical_to_cartesian(phi_deg, theta_deg)  # array frame\n",
    "\n",
    "# Get rotation matrix based on array pointing\n",
    "R = get_rotation_matrix_from_boresight(boresight_az, boresight_alt)\n",
    "\n",
    "# Rotate into ENU\n",
    "vec_enu = R @ vec_music\n",
    "\n",
    "\n",
    "df = df.with_columns(\n",
    "    pl.struct([\"az\", \"alt\"]).map_elements(lambda row: az_alt_to_enu(row[\"az\"], row[\"alt\"])).alias(\"result\")\n",
    ")"
   ]
  },
  {
   "cell_type": "code",
   "execution_count": 166,
   "id": "3eae1ebd-a260-43d0-a1e7-5fa9ac621689",
   "metadata": {},
   "outputs": [
    {
     "name": "stderr",
     "output_type": "stream",
     "text": [
      "/var/folders/vv/d9ncb4ms2x1gl0mmkrvk8m7c0000gp/T/ipykernel_9853/2442223847.py:1: MapWithoutReturnDtypeWarning:\n",
      "\n",
      "Calling `map_elements` without specifying `return_dtype` can lead to unpredictable results. Specify `return_dtype` to silence this warning.\n",
      "\n"
     ]
    },
    {
     "data": {
      "text/html": [
       "<div><style>\n",
       ".dataframe > thead > tr,\n",
       ".dataframe > tbody > tr {\n",
       "  text-align: right;\n",
       "  white-space: pre-wrap;\n",
       "}\n",
       "</style>\n",
       "<small>shape: (10, 4)</small><table border=\"1\" class=\"dataframe\"><thead><tr><th>phi</th><th>theta</th><th>Q</th><th>result</th></tr><tr><td>f64</td><td>f64</td><td>f64</td><td>object</td></tr></thead><tbody><tr><td>88.468468</td><td>56.756757</td><td>0.0</td><td>[0.02235322 0.83605204 0.5481946 ]</td></tr><tr><td>-163.423423</td><td>5.225225</td><td>-0.339769</td><td>[-0.08728605 -0.02598225&nbsp;&nbsp;0.9958444 ]</td></tr><tr><td>35.135135</td><td>89.279279</td><td>-0.610294</td><td>[0.81773226 0.57546132 0.01257862]</td></tr><tr><td>98.558559</td><td>5.945946</td><td>-0.620601</td><td>[-0.0154163&nbsp;&nbsp;&nbsp;0.10243661&nbsp;&nbsp;0.99462007]</td></tr><tr><td>35.135135</td><td>89.189189</td><td>-0.630185</td><td>[0.81771507 0.57544923 0.01415085]</td></tr><tr><td>-123.063063</td><td>38.198198</td><td>-0.645726</td><td>[-0.33736651 -0.51824918&nbsp;&nbsp;0.78587634]</td></tr><tr><td>35.135135</td><td>89.369369</td><td>-0.652113</td><td>[0.81774742 0.57547199 0.01100636]</td></tr><tr><td>-110.810811</td><td>49.369369</td><td>-0.65797</td><td>[-0.2696328&nbsp;&nbsp;-0.70941012&nbsp;&nbsp;0.65118003]</td></tr><tr><td>-142.882883</td><td>36.036036</td><td>-0.674254</td><td>[-0.46910778 -0.35500378&nbsp;&nbsp;0.80864715]</td></tr><tr><td>-145.765766</td><td>6.396396</td><td>-0.689999</td><td>[-0.09210466 -0.06267475&nbsp;&nbsp;0.99377493]</td></tr></tbody></table></div>"
      ],
      "text/plain": [
       "shape: (10, 4)\n",
       "┌─────────────┬───────────┬───────────┬─────────────────────────────────┐\n",
       "│ phi         ┆ theta     ┆ Q         ┆ result                          │\n",
       "│ ---         ┆ ---       ┆ ---       ┆ ---                             │\n",
       "│ f64         ┆ f64       ┆ f64       ┆ object                          │\n",
       "╞═════════════╪═══════════╪═══════════╪═════════════════════════════════╡\n",
       "│ 88.468468   ┆ 56.756757 ┆ 0.0       ┆ [0.02235322 0.83605204 0.54819… │\n",
       "│ -163.423423 ┆ 5.225225  ┆ -0.339769 ┆ [-0.08728605 -0.02598225  0.99… │\n",
       "│ 35.135135   ┆ 89.279279 ┆ -0.610294 ┆ [0.81773226 0.57546132 0.01257… │\n",
       "│ 98.558559   ┆ 5.945946  ┆ -0.620601 ┆ [-0.0154163   0.10243661  0.99… │\n",
       "│ 35.135135   ┆ 89.189189 ┆ -0.630185 ┆ [0.81771507 0.57544923 0.01415… │\n",
       "│ -123.063063 ┆ 38.198198 ┆ -0.645726 ┆ [-0.33736651 -0.51824918  0.78… │\n",
       "│ 35.135135   ┆ 89.369369 ┆ -0.652113 ┆ [0.81774742 0.57547199 0.01100… │\n",
       "│ -110.810811 ┆ 49.369369 ┆ -0.65797  ┆ [-0.2696328  -0.70941012  0.65… │\n",
       "│ -142.882883 ┆ 36.036036 ┆ -0.674254 ┆ [-0.46910778 -0.35500378  0.80… │\n",
       "│ -145.765766 ┆ 6.396396  ┆ -0.689999 ┆ [-0.09210466 -0.06267475  0.99… │\n",
       "└─────────────┴───────────┴───────────┴─────────────────────────────────┘"
      ]
     },
     "execution_count": 166,
     "metadata": {},
     "output_type": "execute_result"
    }
   ],
   "source": [
    "output.with_columns(\n",
    "    pl.struct(['phi', 'theta']).map_elements(lambda row: spherical_to_cartesian(row['phi'], row['theta'])).alias('result')\n",
    ").sort(by='Q', descending=True).head(10)"
   ]
  },
  {
   "cell_type": "code",
   "execution_count": 167,
   "id": "8bfd8ea0-5ea4-4c4a-8f3a-6346c9f1e1ad",
   "metadata": {},
   "outputs": [
    {
     "data": {
      "text/html": [
       "<div><style>\n",
       ".dataframe > thead > tr,\n",
       ".dataframe > tbody > tr {\n",
       "  text-align: right;\n",
       "  white-space: pre-wrap;\n",
       "}\n",
       "</style>\n",
       "<small>shape: (10, 4)</small><table border=\"1\" class=\"dataframe\"><thead><tr><th>name</th><th>alt</th><th>az</th><th>result</th></tr><tr><td>str</td><td>f64</td><td>f64</td><td>object</td></tr></thead><tbody><tr><td>&quot;NAVSTAR 47 (USA 150)&quot;</td><td>16.642376</td><td>91.633704</td><td>[ 0.95772156 -0.0273154&nbsp;&nbsp;&nbsp;0.28639706]</td></tr><tr><td>&quot;NAVSTAR 81 (USA 319)&quot;</td><td>8.048966</td><td>45.01476</td><td>[0.70032124 0.69996053 0.14001934]</td></tr><tr><td>&quot;NAVSTAR 43 (USA 132)&quot;</td><td>49.903986</td><td>140.065598</td><td>[ 0.41343533 -0.49386023&nbsp;&nbsp;0.76496621]</td></tr><tr><td>&quot;NAVSTAR 60 (USA 196)&quot;</td><td>76.956355</td><td>197.642354</td><td>[-0.06840184 -0.21507817&nbsp;&nbsp;0.97419842]</td></tr><tr><td>&quot;NAVSTAR 61 (USA 199)&quot;</td><td>37.980936</td><td>309.60797</td><td>[-0.60726064&nbsp;&nbsp;0.50251198&nbsp;&nbsp;0.61539924]</td></tr><tr><td>&quot;NAVSTAR 67 (USA 239)&quot;</td><td>36.857815</td><td>20.403034</td><td>[0.27894145 0.7499294&nbsp;&nbsp;0.59983128]</td></tr><tr><td>&quot;NAVSTAR 78 (USA 293)&quot;</td><td>45.372665</td><td>219.380969</td><td>[-0.4457132&nbsp;&nbsp;-0.54298774&nbsp;&nbsp;0.71169098]</td></tr><tr><td>&quot;NAVSTAR 79 (USA 304)&quot;</td><td>22.556092</td><td>245.454394</td><td>[-0.84004818 -0.38363983&nbsp;&nbsp;0.38358772]</td></tr><tr><td>&quot;NAVSTAR 69 (USA 248)&quot;</td><td>4.096493</td><td>141.102433</td><td>[ 0.62632575 -0.77628146&nbsp;&nbsp;0.07143639]</td></tr><tr><td>&quot;NAVSTAR 64 (USA 206)&quot;</td><td>44.369909</td><td>123.403165</td><td>[ 0.59676094 -0.39353864&nbsp;&nbsp;0.69928801]</td></tr></tbody></table></div>"
      ],
      "text/plain": [
       "shape: (10, 4)\n",
       "┌──────────────────────┬───────────┬────────────┬─────────────────────────────────┐\n",
       "│ name                 ┆ alt       ┆ az         ┆ result                          │\n",
       "│ ---                  ┆ ---       ┆ ---        ┆ ---                             │\n",
       "│ str                  ┆ f64       ┆ f64        ┆ object                          │\n",
       "╞══════════════════════╪═══════════╪════════════╪═════════════════════════════════╡\n",
       "│ NAVSTAR 47 (USA 150) ┆ 16.642376 ┆ 91.633704  ┆ [ 0.95772156 -0.0273154   0.28… │\n",
       "│ NAVSTAR 81 (USA 319) ┆ 8.048966  ┆ 45.01476   ┆ [0.70032124 0.69996053 0.14001… │\n",
       "│ NAVSTAR 43 (USA 132) ┆ 49.903986 ┆ 140.065598 ┆ [ 0.41343533 -0.49386023  0.76… │\n",
       "│ NAVSTAR 60 (USA 196) ┆ 76.956355 ┆ 197.642354 ┆ [-0.06840184 -0.21507817  0.97… │\n",
       "│ NAVSTAR 61 (USA 199) ┆ 37.980936 ┆ 309.60797  ┆ [-0.60726064  0.50251198  0.61… │\n",
       "│ NAVSTAR 67 (USA 239) ┆ 36.857815 ┆ 20.403034  ┆ [0.27894145 0.7499294  0.59983… │\n",
       "│ NAVSTAR 78 (USA 293) ┆ 45.372665 ┆ 219.380969 ┆ [-0.4457132  -0.54298774  0.71… │\n",
       "│ NAVSTAR 79 (USA 304) ┆ 22.556092 ┆ 245.454394 ┆ [-0.84004818 -0.38363983  0.38… │\n",
       "│ NAVSTAR 69 (USA 248) ┆ 4.096493  ┆ 141.102433 ┆ [ 0.62632575 -0.77628146  0.07… │\n",
       "│ NAVSTAR 64 (USA 206) ┆ 44.369909 ┆ 123.403165 ┆ [ 0.59676094 -0.39353864  0.69… │\n",
       "└──────────────────────┴───────────┴────────────┴─────────────────────────────────┘"
      ]
     },
     "execution_count": 167,
     "metadata": {},
     "output_type": "execute_result"
    }
   ],
   "source": [
    "df"
   ]
  },
  {
   "cell_type": "code",
   "execution_count": 69,
   "id": "7d8d0163-d1fa-4be8-a472-1d663496becf",
   "metadata": {},
   "outputs": [
    {
     "data": {
      "text/plain": [
       "array([-0.69268646, -0.59517361,  0.40737432])"
      ]
     },
     "execution_count": 69,
     "metadata": {},
     "output_type": "execute_result"
    }
   ],
   "source": [
    "R @ np.array([0,0,1])"
   ]
  },
  {
   "cell_type": "code",
   "execution_count": 70,
   "id": "049e8178-5c4f-40a5-bc39-a73309d3dc1e",
   "metadata": {},
   "outputs": [
    {
     "data": {
      "text/plain": [
       "array([-0.69268646, -0.59517361,  0.40737432])"
      ]
     },
     "execution_count": 70,
     "metadata": {},
     "output_type": "execute_result"
    }
   ],
   "source": [
    "az_alt_to_enu(boresight_az, boresight_alt)"
   ]
  },
  {
   "cell_type": "code",
   "execution_count": 75,
   "id": "89e81ffa-dd6b-4c3d-ad6d-2207d1ec5973",
   "metadata": {},
   "outputs": [
    {
     "data": {
      "text/plain": [
       "array([ 0.72123884, -0.5716119 ,  0.3912472 ])"
      ]
     },
     "execution_count": 75,
     "metadata": {},
     "output_type": "execute_result"
    }
   ],
   "source": [
    "def build_rotation_matrix_aligned_with_east(signal_dir):\n",
    "    z_hat = signal_dir / np.linalg.norm(signal_dir)\n",
    "    east = np.array([1.0, 0.0, 0.0])\n",
    "\n",
    "    x_proj = east - np.dot(east, z_hat) * z_hat\n",
    "    if np.linalg.norm(x_proj) < 1e-6:\n",
    "        # fallback to north if east is colinear with signal direction\n",
    "        north = np.array([0.0, 1.0, 0.0])\n",
    "        x_proj = north - np.dot(north, z_hat) * z_hat\n",
    "\n",
    "    x_hat = x_proj / np.linalg.norm(x_proj)\n",
    "    y_hat = np.cross(z_hat, x_hat)\n",
    "\n",
    "    R = np.column_stack((x_hat, y_hat, z_hat))  # signal → ENU\n",
    "    return R\n",
    "\n",
    "R2 = build_rotation_matrix_aligned_with_east(np.array([-0.69268646, -0.59517361, 0.40737432]))\n",
    "R2 @ np.array([1,0,0])"
   ]
  },
  {
   "cell_type": "code",
   "execution_count": 109,
   "id": "c2159fc6-8f2e-4514-8ed3-c554f7320bca",
   "metadata": {},
   "outputs": [
    {
     "name": "stderr",
     "output_type": "stream",
     "text": [
      "/var/folders/vv/d9ncb4ms2x1gl0mmkrvk8m7c0000gp/T/ipykernel_9853/2442223847.py:1: MapWithoutReturnDtypeWarning:\n",
      "\n",
      "Calling `map_elements` without specifying `return_dtype` can lead to unpredictable results. Specify `return_dtype` to silence this warning.\n",
      "\n"
     ]
    },
    {
     "data": {
      "text/html": [
       "<div><style>\n",
       ".dataframe > thead > tr,\n",
       ".dataframe > tbody > tr {\n",
       "  text-align: right;\n",
       "  white-space: pre-wrap;\n",
       "}\n",
       "</style>\n",
       "<small>shape: (10, 4)</small><table border=\"1\" class=\"dataframe\"><thead><tr><th>phi</th><th>theta</th><th>Q</th><th>result</th></tr><tr><td>f64</td><td>f64</td><td>f64</td><td>object</td></tr></thead><tbody><tr><td>-43.063063</td><td>50.36036</td><td>0.0</td><td>[ 0.56261666 -0.52580745&nbsp;&nbsp;0.63795691]</td></tr><tr><td>95.315315</td><td>51.801802</td><td>-0.008754</td><td>[-0.07280103&nbsp;&nbsp;0.78249705&nbsp;&nbsp;0.61838368]</td></tr><tr><td>-172.792793</td><td>52.432432</td><td>-0.178836</td><td>[-0.78637223 -0.09944241&nbsp;&nbsp;0.60969659]</td></tr><tr><td>34.774775</td><td>8.018018</td><td>-0.191212</td><td>[0.11457263 0.07955527 0.99022425]</td></tr><tr><td>77.297297</td><td>81.171171</td><td>-0.333999</td><td>[0.21728678 0.96396546 0.15348305]</td></tr><tr><td>-93.873874</td><td>27.747748</td><td>-0.351503</td><td>[-0.03145473 -0.46451597&nbsp;&nbsp;0.88500594]</td></tr><tr><td>12.792793</td><td>87.657658</td><td>-0.360098</td><td>[0.97436242 0.22124082 0.0408702 ]</td></tr><tr><td>58.918919</td><td>25.315315</td><td>-0.364609</td><td>[0.22074849 0.3662123&nbsp;&nbsp;0.90396828]</td></tr><tr><td>12.792793</td><td>87.567568</td><td>-0.366912</td><td>[0.97429855 0.22122632 0.0424412 ]</td></tr><tr><td>75.855856</td><td>12.072072</td><td>-0.372236</td><td>[0.05110638 0.20280159 0.9778853 ]</td></tr></tbody></table></div>"
      ],
      "text/plain": [
       "shape: (10, 4)\n",
       "┌─────────────┬───────────┬───────────┬─────────────────────────────────┐\n",
       "│ phi         ┆ theta     ┆ Q         ┆ result                          │\n",
       "│ ---         ┆ ---       ┆ ---       ┆ ---                             │\n",
       "│ f64         ┆ f64       ┆ f64       ┆ object                          │\n",
       "╞═════════════╪═══════════╪═══════════╪═════════════════════════════════╡\n",
       "│ -43.063063  ┆ 50.36036  ┆ 0.0       ┆ [ 0.56261666 -0.52580745  0.63… │\n",
       "│ 95.315315   ┆ 51.801802 ┆ -0.008754 ┆ [-0.07280103  0.78249705  0.61… │\n",
       "│ -172.792793 ┆ 52.432432 ┆ -0.178836 ┆ [-0.78637223 -0.09944241  0.60… │\n",
       "│ 34.774775   ┆ 8.018018  ┆ -0.191212 ┆ [0.11457263 0.07955527 0.99022… │\n",
       "│ 77.297297   ┆ 81.171171 ┆ -0.333999 ┆ [0.21728678 0.96396546 0.15348… │\n",
       "│ -93.873874  ┆ 27.747748 ┆ -0.351503 ┆ [-0.03145473 -0.46451597  0.88… │\n",
       "│ 12.792793   ┆ 87.657658 ┆ -0.360098 ┆ [0.97436242 0.22124082 0.04087… │\n",
       "│ 58.918919   ┆ 25.315315 ┆ -0.364609 ┆ [0.22074849 0.3662123  0.90396… │\n",
       "│ 12.792793   ┆ 87.567568 ┆ -0.366912 ┆ [0.97429855 0.22122632 0.04244… │\n",
       "│ 75.855856   ┆ 12.072072 ┆ -0.372236 ┆ [0.05110638 0.20280159 0.97788… │\n",
       "└─────────────┴───────────┴───────────┴─────────────────────────────────┘"
      ]
     },
     "execution_count": 109,
     "metadata": {},
     "output_type": "execute_result"
    }
   ],
   "source": [
    "output.with_columns(\n",
    "    pl.struct(['phi', 'theta']).map_elements(lambda row: spherical_to_cartesian(row['phi'], row['theta'])).alias('result')\n",
    ").sort(by='Q', descending=True).head(10)"
   ]
  },
  {
   "cell_type": "code",
   "execution_count": 83,
   "id": "5faa83f5-3247-46d9-9716-51f132975816",
   "metadata": {},
   "outputs": [
    {
     "data": {
      "text/plain": [
       "220.67"
      ]
     },
     "execution_count": 83,
     "metadata": {},
     "output_type": "execute_result"
    }
   ],
   "source": [
    "(90 - 229.33) % 360"
   ]
  },
  {
   "cell_type": "code",
   "execution_count": 85,
   "id": "51132716-d02a-487b-8e3d-e8dd83c3c1c0",
   "metadata": {},
   "outputs": [
    {
     "data": {
      "text/plain": [
       "65.97"
      ]
     },
     "execution_count": 85,
     "metadata": {},
     "output_type": "execute_result"
    }
   ],
   "source": [
    "90 - 24.03"
   ]
  },
  {
   "cell_type": "code",
   "execution_count": 88,
   "id": "eb248e15-3738-4d76-b6f6-d5e4be79799a",
   "metadata": {},
   "outputs": [
    {
     "data": {
      "text/plain": [
       "np.float64(-0.5952199413798546)"
      ]
     },
     "execution_count": 88,
     "metadata": {},
     "output_type": "execute_result"
    }
   ],
   "source": [
    "np.sin(np.deg2rad(65.97)) * np.sin(np.deg2rad(220.67))"
   ]
  },
  {
   "cell_type": "code",
   "execution_count": null,
   "id": "028f6b82-cf27-4f9e-baf0-a5eb0f5b26b5",
   "metadata": {},
   "outputs": [],
   "source": []
  }
 ],
 "metadata": {
  "kernelspec": {
   "display_name": "Python 3 (ipykernel)",
   "language": "python",
   "name": "python3"
  },
  "language_info": {
   "codemirror_mode": {
    "name": "ipython",
    "version": 3
   },
   "file_extension": ".py",
   "mimetype": "text/x-python",
   "name": "python",
   "nbconvert_exporter": "python",
   "pygments_lexer": "ipython3",
   "version": "3.13.2"
  }
 },
 "nbformat": 4,
 "nbformat_minor": 5
}
