{
 "cells": [
  {
   "cell_type": "code",
   "execution_count": 36,
   "id": "ef9ef6b1-b233-4871-b86c-2417cc59ab7e",
   "metadata": {},
   "outputs": [],
   "source": [
    "import polars as pl\n",
    "from spatial_filtering import arrays, constants, direction_of_arrival\n",
    "import importlib\n",
    "\n",
    "importlib.reload(arrays)\n",
    "importlib.reload(constants)\n",
    "importlib.reload(direction_of_arrival)\n",
    "\n",
    "meerkat_pos = pl.read_excel('meerkat positions.xlsx')\n",
    "meerkat_pos = meerkat_pos.with_columns(distance_from_center_m=(pl.col('East')**2 + pl.col('North')**2 + pl.col('Up')**2).sqrt())\n",
    "meerkat_pos_core = meerkat_pos.filter(pl.col('distance_from_center_m') < 750)\n",
    "core_indices = [int(r[-2:]) for r in meerkat_pos_core['Antenna'].to_list()]\n",
    "data_np = meerkat_pos_core[['East', 'North', 'Up']].to_numpy()\n",
    "\n",
    "from spatial_filtering.arrays import Array\n",
    "import numpy as np\n",
    "\n",
    "array = arrays.Array(data_np)\n",
    "N = array.num_antennas\n",
    "f = 1.2276e9              # Frequency 1.2276 GHz GPS L2 band.\n",
    "wavelength = constants.c / f\n",
    "snapshots = 2000\n"
   ]
  },
  {
   "cell_type": "code",
   "execution_count": 2,
   "id": "3c02d5ed-11f6-4d3b-a5fc-65ff24138d87",
   "metadata": {},
   "outputs": [
    {
     "name": "stdout",
     "output_type": "stream",
     "text": [
      "{'HEADER': 'DADA', 'HDR_VERSION': '1.0', 'HDR_SIZE': 4096, 'DADA_VERSION': '1.0', 'OBS_ID': 'None', 'FILE_SIZE': '3048214528', 'FILE_NUMBER': '0', 'UTC_START': '1708082482.092702505', 'MJD_START': '60356.47317236924195', 'OBS_OFFSET': '0', 'OBS_OVERLAP': '0', 'SOURCE': 'J1644-4559_Offset1', 'RA': '16:44:26.25', 'DEC': '-45:59:09.6', 'TELESCOPE': 'MeerKAT', 'INSTRUMENT': 'CBF-Feng', 'RECEIVER': 'L-band', 'FREQ': '1284000000.000000', 'BW': '856000000.000000', 'TSAMP': '4.7850467290', 'BYTES_PER_SECOND': '3424000000.000000', 'NBIT': 8, 'NDIM': 2, 'NPOL': 2, 'NCHAN': 64, 'NANT': 57, 'ORDER': 'TAFTP', 'INNER_T': 256, 'SYNC_TIME': '1708039531.000000', 'SAMPLE_CLOCK': '1712000000.000000', 'SAMPLE_CLOCK_START': '73532270706688', 'CHAN0_IDX': 1728, 'Lowest_freq (MHz)': 1217.125}\n"
     ]
    }
   ],
   "source": [
    "from dadanalyse import read_dada\n",
    "GPS_CHANNEL = 50\n",
    "POL = 1\n",
    "# J1644-4559_2024-02-16T11:21:22.092_29_73532270706688.dada\n",
    "dada = read_dada(\"gps.dada\")\n",
    "print(dada.get_header())\n",
    "dada = dada.combined_data()\n",
    "\n"
   ]
  },
  {
   "cell_type": "code",
   "execution_count": 26,
   "id": "79acee3d-8793-4e04-834e-581fe729055f",
   "metadata": {},
   "outputs": [],
   "source": []
  },
  {
   "cell_type": "code",
   "execution_count": 8,
   "id": "8e33365b-0d94-43f4-9c01-2d0372434b99",
   "metadata": {},
   "outputs": [
    {
     "data": {
      "text/plain": [
       "(208896, 57, 64, 2)"
      ]
     },
     "execution_count": 8,
     "metadata": {},
     "output_type": "execute_result"
    }
   ],
   "source": [
    "dada.shape"
   ]
  },
  {
   "cell_type": "code",
   "execution_count": 37,
   "id": "5bb9ee2d-e0a1-48a4-a4e8-0e18dd8fc657",
   "metadata": {},
   "outputs": [],
   "source": [
    "X = dada[0:2000, core_indices, GPS_CHANNEL, POL].T"
   ]
  },
  {
   "cell_type": "code",
   "execution_count": 38,
   "id": "b4f32feb-1a6b-4a61-b720-8d0d41806570",
   "metadata": {},
   "outputs": [
    {
     "data": {
      "text/plain": [
       "datetime.datetime(2024, 2, 16, 11, 21, 22, 92702)"
      ]
     },
     "execution_count": 38,
     "metadata": {},
     "output_type": "execute_result"
    }
   ],
   "source": [
    "from skyfield.api import load, Topos, EarthSatellite\n",
    "from datetime import datetime\n",
    "import numpy as np\n",
    "\n",
    "# Location: MeerKAT Telescope (converted to decimal degrees)\n",
    "lat = -30.71106\n",
    "lon = 21.44389\n",
    "elevation_m = 1086.6\n",
    "\n",
    "# Time: Convert UNIX timestamp to UTC\n",
    "timestamp = 1708082482.092702505\n",
    "dt = datetime.utcfromtimestamp(timestamp)\n",
    "dt"
   ]
  },
  {
   "cell_type": "code",
   "execution_count": 39,
   "id": "4e649237-1835-4a5d-adf0-bd278975838c",
   "metadata": {},
   "outputs": [],
   "source": [
    "R = X @ X.conj().T / N"
   ]
  },
  {
   "cell_type": "code",
   "execution_count": 40,
   "id": "ab16bdd1-077a-4aa9-8553-91a9bf9d3f8c",
   "metadata": {},
   "outputs": [],
   "source": [
    "import numpy as np\n",
    "\n",
    "evals, evecs = np.linalg.eigh(R)"
   ]
  },
  {
   "cell_type": "code",
   "execution_count": 41,
   "id": "bbd9d762-12a6-43ba-a708-4eca77e428a2",
   "metadata": {},
   "outputs": [],
   "source": [
    "import matplotlib.pyplot as plt\n",
    "\n",
    "plt.plot(evals)\n",
    "plt.show()"
   ]
  },
  {
   "cell_type": "code",
   "execution_count": 32,
   "id": "3d60c4cc-091c-4b61-854f-ea550d7b4062",
   "metadata": {},
   "outputs": [
    {
     "data": {
      "text/plain": [
       "array([ 24490.18 ,  24926.332,  25154.76 ,  25361.377,  25918.19 ,\n",
       "        26566.24 ,  27081.904,  27656.371,  28827.396,  30058.643,\n",
       "        32373.867,  37933.08 ,  71261.484,  93760.695, 198970.06 ],\n",
       "      dtype=float32)"
      ]
     },
     "execution_count": 32,
     "metadata": {},
     "output_type": "execute_result"
    }
   ],
   "source": [
    "evals[-15:]"
   ]
  },
  {
   "cell_type": "code",
   "execution_count": null,
   "id": "5677aef5-f22b-41d4-be72-1107d883a79e",
   "metadata": {},
   "outputs": [],
   "source": [
    "\n",
    "\n",
    "theta_steps = 10_000\n",
    "phi_steps = 10_000\n",
    "\n",
    "output = direction_of_arrival.MUSICDOA2D().get_directions(\n",
    "    array,\n",
    "    R, \n",
    "    num_interferers=5,\n",
    "    wavelength = wavelength,\n",
    "    theta_min_deg = -90,\n",
    "    theta_max_deg = 90,\n",
    "    theta_steps=theta_steps,\n",
    "    phi_min_deg = -180,\n",
    "    phi_max_deg = 180,\n",
    "    phi_steps=phi_steps,\n",
    ")"
   ]
  },
  {
   "cell_type": "code",
   "execution_count": null,
   "id": "5b977f91-7bba-4f37-84fb-d8d1da812f2e",
   "metadata": {},
   "outputs": [],
   "source": [
    "\n",
    "import plotly.express as px\n",
    "\n",
    "import plotly.io as pio\n",
    "pio.renderers.default = 'iframe'  # or 'iframe' or 'colab' depending on your environment\n",
    "\n",
    "# Filter top 1% Q values (adjust as needed)\n",
    "threshold = output['Q'].quantile(0.999975)\n",
    "high_Q = output.filter(pl.col('Q') >= threshold)\n",
    "\n",
    "# Create 3D scatter plot\n",
    "fig = px.scatter_3d(\n",
    "    high_Q,\n",
    "    x='theta',  # azimuth\n",
    "    y='r',      # range\n",
    "    z='Q',      # MUSIC power\n",
    "    color='Q',\n",
    "    color_continuous_scale='Jet',\n",
    "    opacity=0.8\n",
    ")\n",
    "\n",
    "# Update layout for better visuals\n",
    "fig.update_layout(\n",
    "    title='High-Q MUSIC Spectrum Peaks',\n",
    "    scene=dict(\n",
    "        xaxis_title='Angle (degrees)',\n",
    "        yaxis_title='Range (meters)',\n",
    "        zaxis_title='Q (dB)'\n",
    "    )\n",
    ")\n",
    "\n",
    "fig.show()"
   ]
  },
  {
   "cell_type": "markdown",
   "id": "1f03546b-debd-4ff4-9a06-d4a71d9cda06",
   "metadata": {},
   "source": [
    "The MJD I want is 60356.47317236924195\n",
    "\n",
    "\n"
   ]
  },
  {
   "cell_type": "code",
   "execution_count": 64,
   "id": "3fd4f139-fb8b-42c7-ba96-187a0eea5d77",
   "metadata": {},
   "outputs": [
    {
     "name": "stdout",
     "output_type": "stream",
     "text": [
      "Loaded 54 satellites\n"
     ]
    }
   ],
   "source": [
    "from skyfield.api import load, EarthSatellite\n",
    "from skyfield.iokit import parse_tle_file\n",
    "import json\n",
    "ts = load.timescale()\n",
    "\n",
    "with load.open('gp2_2.tle') as f:\n",
    "    data = json.load(f)\n",
    "\n",
    "ts = load.timescale()\n",
    "sats = [EarthSatellite.from_omm(ts, fields) for fields in data]\n",
    "\n",
    "print('Loaded', len(data), 'satellites')"
   ]
  },
  {
   "cell_type": "code",
   "execution_count": 73,
   "id": "38f45a71-5241-4f47-9d4a-d88fd1de11db",
   "metadata": {},
   "outputs": [
    {
     "name": "stdout",
     "output_type": "stream",
     "text": [
      "Altitude: 24.02 deg\n",
      "Azimuth: 229.33 deg\n"
     ]
    }
   ],
   "source": [
    "from astropy.coordinates import SkyCoord, EarthLocation, AltAz\n",
    "from astropy.time import Time\n",
    "import astropy.units as u\n",
    "\n",
    "# Observer location (MeerKAT)\n",
    "location = EarthLocation(lat=-30.71106*u.deg,\n",
    "                         lon=21.44389*u.deg,\n",
    "                         height=1086.6*u.m)\n",
    "\n",
    "# Time of observation (UTC)\n",
    "obstime = Time('2024-02-16 11:21:22')\n",
    "\n",
    "# RA/DEC coordinates (example)\n",
    "ra_str = '16:44:26.25'\n",
    "dec_str = '-45:59:09.6'\n",
    "\n",
    "# Create SkyCoord object in ICRS (equatorial)\n",
    "sky_coord = SkyCoord(ra=ra, dec=dec, frame='icrs')\n",
    "\n",
    "# Create AltAz frame at observer location and time\n",
    "altaz_frame = AltAz(obstime=obstime, location=location)\n",
    "\n",
    "# Transform RA/DEC to AltAz\n",
    "altaz = sky_coord.transform_to(altaz_frame)\n",
    "\n",
    "# Output altitude and azimuth\n",
    "print(f\"Altitude: {altaz.alt:.2f}\")\n",
    "print(f\"Azimuth: {altaz.az:.2f}\")"
   ]
  },
  {
   "cell_type": "code",
   "execution_count": 74,
   "id": "1b7c801d-d7b9-4feb-8473-db79421f857c",
   "metadata": {},
   "outputs": [
    {
     "data": {
      "text/plain": [
       "10"
      ]
     },
     "execution_count": 74,
     "metadata": {},
     "output_type": "execute_result"
    }
   ],
   "source": [
    "from skyfield.api import wgs84, Topos\n",
    "\n",
    "meerkat = Topos(latitude_degrees=-30.71106,\n",
    "                longitude_degrees=21.44389,\n",
    "                elevation_m= 1086.6)\n",
    "\n",
    "obs_site =  meerkat\n",
    "t0 = ts.utc(2024, 2, 15)\n",
    "t1 = ts.utc(2024, 2, 17)\n",
    "t_obs = ts.utc(2024, 2, 16, 11, 21, 22)\n",
    "sats_visible = []\n",
    "sats_processed = set()\n",
    "\n",
    "for satellite in sats:\n",
    "    # There are some duplicate TLEs - don't worry about this.\n",
    "    if satellite.name in sats_processed:\n",
    "        continue\n",
    "    event_dict = {}\n",
    "    event_dict['name'] = satellite.name\n",
    "\n",
    "    topocentric = (satellite - obs_site).at(t_obs)\n",
    "    alt, az, _ = topocentric.altaz()\n",
    "    event_dict['alt'] = alt\n",
    "    event_dict['az'] = az\n",
    "    if alt.degrees > 0:\n",
    "        sats_visible.append(event_dict)\n",
    "    sats_processed.add(satellite.name)\n",
    "\n",
    "df = pl.from_records(sats_visible)\n",
    "#df.write_excel('sats.xlsx')\n",
    "#len(sats_processed)\n",
    "len(sats_visible)"
   ]
  },
  {
   "cell_type": "code",
   "execution_count": 60,
   "id": "775ba7c8-75a8-44f3-bf42-c2a03731fffc",
   "metadata": {},
   "outputs": [
    {
     "name": "stdout",
     "output_type": "stream",
     "text": [
      "UTC Time: 2024-02-16 11:21:22.093\n",
      "Year: 2024\n",
      "Datetime: 2024-02-16 11:21:22.092702\n"
     ]
    }
   ],
   "source": [
    "from astropy.time import Time\n",
    "\n",
    "# Your MJD value (example)\n",
    "mjd = 60356.47317236924195\n",
    "\n",
    "# Create Time object\n",
    "t = Time(mjd, format='mjd', scale='utc')\n",
    "\n",
    "# Print UTC as ISO format\n",
    "print(\"UTC Time:\", t.utc.iso)\n",
    "\n",
    "# Or get components\n",
    "print(\"Year:\", t.utc.datetime.year)\n",
    "print(\"Datetime:\", t.utc.datetime)"
   ]
  },
  {
   "cell_type": "code",
   "execution_count": 71,
   "id": "10aa0280-2a63-4b3f-b451-5750e42d9b95",
   "metadata": {},
   "outputs": [
    {
     "data": {
      "text/plain": [
       "np.float64(44.369909028490135)"
      ]
     },
     "execution_count": 71,
     "metadata": {},
     "output_type": "execute_result"
    }
   ],
   "source": []
  },
  {
   "cell_type": "code",
   "execution_count": null,
   "id": "fabe66d4-2f2e-494c-85f2-41f20651ed9a",
   "metadata": {},
   "outputs": [],
   "source": []
  }
 ],
 "metadata": {
  "kernelspec": {
   "display_name": "Python 3 (ipykernel)",
   "language": "python",
   "name": "python3"
  },
  "language_info": {
   "codemirror_mode": {
    "name": "ipython",
    "version": 3
   },
   "file_extension": ".py",
   "mimetype": "text/x-python",
   "name": "python",
   "nbconvert_exporter": "python",
   "pygments_lexer": "ipython3",
   "version": "3.10.12"
  }
 },
 "nbformat": 4,
 "nbformat_minor": 5
}
